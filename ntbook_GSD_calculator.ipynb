{
 "cells": [
  {
   "cell_type": "code",
   "execution_count": 43,
   "metadata": {
    "collapsed": true
   },
   "outputs": [],
   "source": [
    "import numpy as np\n",
    "from math import log"
   ]
  },
  {
   "cell_type": "code",
   "execution_count": 95,
   "metadata": {
    "collapsed": false
   },
   "outputs": [],
   "source": [
    "# init\n",
    "datapoints = [(4,100),(2,99),(1,97),(0.5,83.4),(0.25,42),(0.125,10),(0.062,3.2),(0.031,2)]\n",
    "\n",
    "dtype = [('diameters', float), ('fractions', float)]\n",
    "datapts = np.array(datapoints, dtype=dtype)       # create a structured array\n",
    "\n",
    "# scale\n",
    "if max(datapts['fractions']) > 1.:\n",
    "    datapts['fractions'] = datapts['fractions'] / 100.\n",
    "\n",
    "datapts = np.sort(datapts, order='diameters')       \n",
    "\n",
    "psi_scale = np.array(range(-10,20), dtype = np.float)\n",
    "psi_scale_mm = 2**psi_scale\n",
    "\n",
    "if datapts['fractions'][0] > 0.0:\n",
    "    # if smallest fraction is not zero, assume that the next smallest psi scale grain size had a fraction of zero\n",
    "    next_smallest_size = psi_scale_mm[np.where(psi_scale_mm<datapts['diameters'][0])[0][-1]]\n",
    "    first_entry = np.array([(next_smallest_size,0.0)], dtype = dtype)\n",
    "    datapts = np.hstack((first_entry,datapts))\n",
    "    \n",
    "if datapts['fractions'][-1] < 1.0:\n",
    "    # if largest fraction is not zero, assume that the next larger psi scale grain size had a fraction of 1\n",
    "    next_larger_size = psi_scale_mm[np.where(psi_scale_mm>datapts['diameters'][-1])[0][0]]\n",
    "    last_entry = np.array([(next_larger_size,1.0)], dtype = dtype)\n",
    "    datapts = np.hstack((datapts,last_entry))"
   ]
  },
  {
   "cell_type": "code",
   "execution_count": null,
   "metadata": {
    "collapsed": true
   },
   "outputs": [],
   "source": [
    "# run\n",
    "\n",
    "# geometric mean\n",
    "\n",
    "\n",
    "\n",
    "# geometric standard deviation"
   ]
  }
 ],
 "metadata": {
  "kernelspec": {
   "display_name": "Python 2",
   "language": "python",
   "name": "python2"
  },
  "language_info": {
   "codemirror_mode": {
    "name": "ipython",
    "version": 2
   },
   "file_extension": ".py",
   "mimetype": "text/x-python",
   "name": "python",
   "nbconvert_exporter": "python",
   "pygments_lexer": "ipython2",
   "version": "2.7.10"
  }
 },
 "nbformat": 4,
 "nbformat_minor": 0
}
