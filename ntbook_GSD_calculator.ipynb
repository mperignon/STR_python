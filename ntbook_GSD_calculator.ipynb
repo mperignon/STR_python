{
 "cells": [
  {
   "cell_type": "code",
   "execution_count": 73,
   "metadata": {
    "collapsed": true
   },
   "outputs": [],
   "source": [
    "import numpy as np\n",
    "from math import log, sqrt"
   ]
  },
  {
   "cell_type": "code",
   "execution_count": 93,
   "metadata": {
    "collapsed": false
   },
   "outputs": [],
   "source": [
    "def characteristic_size(datapts_, pct):\n",
    "    '''\n",
    "    Calculate characteristic size based on percent finer\n",
    "    \n",
    "    Input\n",
    "    ------\n",
    "    datapts_: nd array of grain size diameters and percent finers\n",
    "    pct: percentage such that D_pct is the size such that pct percent\n",
    "        of the sample is finer than D_pct (between 0 and 100)\n",
    "        \n",
    "    Output\n",
    "    ------\n",
    "    Dx (in millimiters), where x percent of the sample is finer than Dx\n",
    "    '''\n",
    "\n",
    "    pct_ = float(pct)\n",
    "    \n",
    "    loc_ = np.where(datapts['fractions'] >= pct_/100)[0][0]\n",
    "    \n",
    "    assert loc_>0, 'Percent finer appears to be less than 0!'\n",
    "\n",
    "    D2_ = log(datapts_['diameters'][loc_],2)\n",
    "    D1_ = log(datapts_['diameters'][loc_-1],2)\n",
    "    f2_ = datapts_['fractions'][loc_]\n",
    "    f1_ = datapts_['fractions'][loc_-1]\n",
    "\n",
    "    psix_ = D1_ + ((D2_ - D1_)/(f2_ - f1_)) * (pct_/100 - f1_)\n",
    "    \n",
    "    return 2**psix\n",
    "\n",
    "\n",
    "\n",
    "def grain_statistics(datapts):\n",
    "    '''\n",
    "    Statistical characteristics of grain size distributions\n",
    "    \n",
    "    Input\n",
    "    -----\n",
    "    datapts: nd array of grain size diameters and percent finers\n",
    "    \n",
    "    Output\n",
    "    ------\n",
    "    D_g: Geometric mean grain diameter in millimiter\n",
    "    sigma_g: Standard deviation of grain size in millimiters\n",
    "        Sediment is well sorted if sigma_g < 1.6\n",
    "    '''\n",
    "\n",
    "    psi_b = [log(i,2) for i in datapts['diameters']]\n",
    "\n",
    "    dtype = [('psi', float), ('diameters', float), ('fractions', float)]\n",
    "    centerpts = np.zeros((len(datapts)-1), dtype=dtype)       # create a structured array\n",
    "\n",
    "    for i in range(len(datapts)-1):    \n",
    "        centerpts['psi'][i] = (psi_b[i+1] + psi_b[i])/2\n",
    "        centerpts['diameters'][i] = sqrt(datapts['diameters'][i] * datapts['diameters'][i+1])\n",
    "        centerpts['fractions'][i] = datapts['fractions'][i+1]  - datapts['fractions'][i]\n",
    "\n",
    "    psi_bar = sum(centerpts['psi'] * centerpts['fractions'])\n",
    "    D_g = 2 ** psi_bar\n",
    "\n",
    "    sigma = sqrt(sum((centerpts['psi'] - psi_bar)**2 * centerpts['fractions']))\n",
    "    sigma_g = 2 ** sigma\n",
    "    \n",
    "    return D_g, sigma_g\n",
    "\n",
    "\n",
    "\n",
    "\n",
    "# init\n",
    "datapoints = [(4,100),(2,99),(1,97),(0.5,83.4),(0.25,42),(0.125,10),(0.062,3.2),(0.031,2)]\n",
    "\n",
    "dtype = [('diameters', float), ('fractions', float)]\n",
    "datapts = np.array(datapoints, dtype=dtype)       # create a structured array\n",
    "\n",
    "# scale\n",
    "if max(datapts['fractions']) > 1.:\n",
    "    datapts['fractions'] = datapts['fractions'] / 100.\n",
    "\n",
    "datapts = np.sort(datapts, order='diameters')       \n",
    "\n",
    "psi_scale = np.array(range(-10,20), dtype = np.float)\n",
    "psi_scale_mm = 2**psi_scale\n",
    "\n",
    "# interpolate\n",
    "if datapts['fractions'][0] > 0.0:\n",
    "    # if smallest fraction is not zero, interpolate linearly to find the missing value\n",
    "    D3 = log(datapts['diameters'][1],2)\n",
    "    D2 = log(datapts['diameters'][0],2)\n",
    "    f3 = datapts['fractions'][1]\n",
    "    f2 = datapts['fractions'][0]\n",
    "    newpsi = D3 + ((D2 - D3)/(f2 - f3))*(0-f3)\n",
    "    first_entry = np.array((2**newpsi,0), dtype=dtype)\n",
    "    datapts = np.hstack((first_entry,datapts))\n",
    "    \n",
    "if datapts['fractions'][-1] < 1.0:\n",
    "    # if largest fraction is not zero, assume that the next larger psi scale grain size had a fraction of 1\n",
    "    next_larger_size = psi_scale_mm[np.where(psi_scale_mm>datapts['diameters'][-1])[0][0]]\n",
    "    last_entry = np.array([(next_larger_size,1.0)], dtype = dtype)\n",
    "    datapts = np.hstack((datapts,last_entry))\n",
    "    \n"
   ]
  },
  {
   "cell_type": "code",
   "execution_count": 99,
   "metadata": {
    "collapsed": false
   },
   "outputs": [],
   "source": [
    "def characteristic_size(pct):\n",
    "\n",
    "    if type(pct) is int or type(pct) is float:\n",
    "        pct = [pct]\n",
    "\n",
    "    for i in pct:\n",
    "\n",
    "        pct_ = float(i)\n",
    "\n",
    "        loc_ = np.where(datapts['fractions'] >= pct_/100)[0][0]\n",
    "\n",
    "        assert loc_>0, 'Percent finer appears to be less than 0!'\n",
    "\n",
    "        D2_ = log(datapts['diameters'][loc_],2)\n",
    "        D1_ = log(datapts['diameters'][loc_-1],2)\n",
    "        f2_ = datapts['fractions'][loc_]\n",
    "        f1_ = datapts['fractions'][loc_-1]\n",
    "\n",
    "        psix_ = D1_ + ((D2_ - D1_)/(f2_ - f1_)) * (pct_/100 - f1_)\n",
    "        D_x_ = 2**psix_\n",
    "\n",
    "        print 'The characteristic size for', i, 'percent finer is:', D_x_, 'mm'"
   ]
  },
  {
   "cell_type": "code",
   "execution_count": 100,
   "metadata": {
    "collapsed": false
   },
   "outputs": [
    {
     "name": "stdout",
     "output_type": "stream",
     "text": [
      "The characteristic size for 50 percent finer is: 0.285831478754 mm\n"
     ]
    }
   ],
   "source": [
    "characteristic_size(50)"
   ]
  },
  {
   "cell_type": "code",
   "execution_count": null,
   "metadata": {
    "collapsed": true
   },
   "outputs": [],
   "source": []
  }
 ],
 "metadata": {
  "kernelspec": {
   "display_name": "Python 2",
   "language": "python",
   "name": "python2"
  },
  "language_info": {
   "codemirror_mode": {
    "name": "ipython",
    "version": 2
   },
   "file_extension": ".py",
   "mimetype": "text/x-python",
   "name": "python",
   "nbconvert_exporter": "python",
   "pygments_lexer": "ipython2",
   "version": "2.7.10"
  }
 },
 "nbformat": 4,
 "nbformat_minor": 0
}
