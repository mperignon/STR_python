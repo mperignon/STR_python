{
 "cells": [
  {
   "cell_type": "code",
   "execution_count": 44,
   "metadata": {
    "collapsed": false
   },
   "outputs": [],
   "source": [
    "import numpy as np\n",
    "import matplotlib.pyplot as plt\n",
    "%matplotlib inline\n",
    "\n",
    "import GSD_calculator as gsd\n",
    "reload(gsd)\n",
    "\n",
    "from math import sqrt, log\n",
    "\n",
    "from shared_tools import po, oo, so"
   ]
  },
  {
   "cell_type": "code",
   "execution_count": 40,
   "metadata": {
    "collapsed": false
   },
   "outputs": [],
   "source": [
    "rho_w = 1000.\n",
    "rho_s = 2650.\n",
    "\n",
    "R = (rho_s - rho_w)/ rho_w\n",
    "\n",
    "u = 0.01 # shear velocity m/s\n",
    "\n",
    "GSD = [(40,100),\n",
    "       (35,99),\n",
    "       (30,83),\n",
    "       (25,72),\n",
    "       (20,41),\n",
    "       (15,22),\n",
    "       (10,5),\n",
    "       (5,0)]\n",
    "\n",
    "# GSD to array\n",
    "GSD_array = gsd.pre_process_data(GSD)\n",
    "GSD_array['diameters'] = GSD_array['diameters']/1000 # mm to m\n",
    "\n",
    "# check for sand. If have D<0.002 with fraction > 0.0, break\n",
    "if min(GSD_array['diameters']) <= 0.002:\n",
    "    error_msg = \"This program cannot be used with sand-sized sediment\"\n",
    "    assert max(GSD_array[GSD_array['diameters'] <= 0.002]['fractions']) <= 0.0, error_msg\n",
    "    \n",
    "if len(GSD_array) > 1:\n",
    "    D_g, sigma_g = gsd.grain_statistics(GSD_array)\n",
    "    \n",
    "\n",
    "# calculate load and distribution\n",
    "\n",
    "taurgo = 0.0386\n",
    "lowphi = 0.1\n",
    "hiphi = 2320"
   ]
  },
  {
   "cell_type": "code",
   "execution_count": 46,
   "metadata": {
    "collapsed": false
   },
   "outputs": [
    {
     "data": {
      "text/plain": [
       "array([ 0.8157,  0.8157,  0.8182,  0.8233,  0.8333,  0.8439,  0.8621,\n",
       "        0.8825,  0.9214,  0.9723,  1.025 ,  1.083 ,  1.13  ,  1.153 ,\n",
       "        1.196 ,  1.225 ,  1.25  ,  1.287 ,  1.313 ,  1.333 ,  1.352 ,\n",
       "        1.38  ,  1.403 ,  1.414 ,  1.426 ,  1.444 ,  1.458 ,  1.469 ,\n",
       "        1.48  ,  1.486 ,  1.49  ,  1.493 ,  1.497 ,  1.498 ,  1.499 ,  1.5   ])"
      ]
     },
     "execution_count": 46,
     "metadata": {},
     "output_type": "execute_result"
    }
   ],
   "source": [
    "so"
   ]
  },
  {
   "cell_type": "code",
   "execution_count": null,
   "metadata": {
    "collapsed": true
   },
   "outputs": [],
   "source": []
  }
 ],
 "metadata": {
  "kernelspec": {
   "display_name": "Python 2",
   "language": "python",
   "name": "python2"
  },
  "language_info": {
   "codemirror_mode": {
    "name": "ipython",
    "version": 2
   },
   "file_extension": ".py",
   "mimetype": "text/x-python",
   "name": "python",
   "nbconvert_exporter": "python",
   "pygments_lexer": "ipython2",
   "version": "2.7.10"
  }
 },
 "nbformat": 4,
 "nbformat_minor": 0
}
