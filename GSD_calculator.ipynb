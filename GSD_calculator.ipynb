{
 "cells": [
  {
   "cell_type": "markdown",
   "metadata": {},
   "source": [
    "# Calculating Statistics of Grain Size Distributions"
   ]
  },
  {
   "cell_type": "markdown",
   "metadata": {},
   "source": [
    "This program computes the statistical characteristics of grain size distributions.\n",
    "\n",
    "For a more detailed description of the theoretical formulation of the problem and of the code, see Chapter 2 “Characterization of Sediment and Grain Size Distributions” [[download PPT]](http://hydrolab.illinois.edu/people/parkerg/_private/e-bookPowerPoint/RTe-bookCh2SedimentGSD.ppt) of Gary Parker's e-book.\n",
    "\n",
    "The input parameters are:\n",
    "\n",
    "* `datapts`: List of tuples of bound grain size diameters (in mm) and the corresponding value of percent finer (or percent passing). This parameter has the format `[(diameter, fraction), (diameter, fraction), ...]`\n",
    "\n",
    "For example, for a grain size distribution where all grains are finer than 4 mm:\n",
    "\n",
    "```python\n",
    "datapts = [(4, 100), (2, 99), (1, 97), (0.5, 83.4),\n",
    "          (0.25, 42), (0.125, 10), (0.062, 3.2), (0.031, 2)]\n",
    "```\n",
    "\n",
    "The list does not have to be ordered and the percent finer scale can have a scale of 0 - 1 or 0 - 100. If upper (100%) or lower (0%) bound diameters are not included, the program assumes that the next psi scale grain size is the bound.\n",
    "<br>\n",
    "\n",
    "The output parameters are:\n",
    "\n",
    "* `D_g`: Geometric mean grain diameter (mm)\n",
    "* `sigma_g`: Standard deviation of grain size (mm)\n",
    "* `sorting`: Whether the sediment is poorly sorted or well sorted. Sediment is well sorted if `sigma_g < 1.6`.\n",
    "* `D_70`: Characteristic grain size (mm) where 70% of the sample is finer than this diameter\n",
    "* `D_50`: Characteristic grain size (mm) where 50% of the sample is finer than this diameter\n",
    "* `D_30`: Characteristic grain size (mm) where 30% of the sample is finer than this diameter\n",
    "\n",
    "### Notes:\n",
    "* Initializing the GSD calculator code with the argument `verbose = True` automatically prints information about the default parameters and outputs."
   ]
  },
  {
   "cell_type": "markdown",
   "metadata": {
    "collapsed": true
   },
   "source": [
    "To run this program, first import the GSD Calculator code and initiate it:"
   ]
  },
  {
   "cell_type": "code",
   "execution_count": 1,
   "metadata": {
    "collapsed": false
   },
   "outputs": [],
   "source": [
    "from STR_code.GSD_calculator import GSD_calculator\n",
    "\n",
    "g = GSD_calculator()"
   ]
  },
  {
   "cell_type": "markdown",
   "metadata": {
    "collapsed": false
   },
   "source": [
    "The code is initialized with a default grain size distribution. To access this variable, we can type:"
   ]
  },
  {
   "cell_type": "code",
   "execution_count": 2,
   "metadata": {
    "collapsed": false
   },
   "outputs": [
    {
     "name": "stdout",
     "output_type": "stream",
     "text": [
      "Grain size distribution: [(4, 100), (2, 99), (1, 97), (0.5, 83.4), (0.25, 42), (0.125, 10), (0.062, 3.2), (0.031, 2)]\n"
     ]
    }
   ],
   "source": [
    "print 'Grain size distribution:', g.datapoints"
   ]
  },
  {
   "cell_type": "markdown",
   "metadata": {},
   "source": [
    "We can change this distribution by assigning a new list to it:"
   ]
  },
  {
   "cell_type": "code",
   "execution_count": 3,
   "metadata": {
    "collapsed": false
   },
   "outputs": [
    {
     "name": "stdout",
     "output_type": "stream",
     "text": [
      "Grain size distribution: [(1, 82), (0.707, 65), (0.42, 41), (0.25, 22), (0.149, 3)]\n"
     ]
    }
   ],
   "source": [
    "diameters = [1, .707, .420, .250, .149]\n",
    "percents = [82, 65, 41, 22, 3]\n",
    "new_distribution = zip(diameters,percents)\n",
    "\n",
    "g.datapoints = new_distribution\n",
    "\n",
    "print 'Grain size distribution:', g.datapoints"
   ]
  },
  {
   "cell_type": "markdown",
   "metadata": {},
   "source": [
    "To run the program, we type:"
   ]
  },
  {
   "cell_type": "code",
   "execution_count": 4,
   "metadata": {
    "collapsed": true
   },
   "outputs": [],
   "source": [
    "g.run()"
   ]
  },
  {
   "cell_type": "markdown",
   "metadata": {},
   "source": [
    "This command just solves the equations. It doesn't produce any visible output on the screen and doesn't save a file. To access the output, we can call the individual variables:"
   ]
  },
  {
   "cell_type": "code",
   "execution_count": 5,
   "metadata": {
    "collapsed": false
   },
   "outputs": [
    {
     "name": "stdout",
     "output_type": "stream",
     "text": [
      "Geometric mean: 0.497676175116 mm\n",
      "Standard deviation: 2.0240502469 mm\n",
      "Sorting: Poorly sorted\n"
     ]
    }
   ],
   "source": [
    "print 'Geometric mean:', g.geometric_mean, 'mm'\n",
    "print 'Standard deviation:', g.standard_deviation, 'mm'\n",
    "print 'Sorting:', g.sorting"
   ]
  },
  {
   "cell_type": "markdown",
   "metadata": {},
   "source": [
    "We can save the input and output parameters of the code to files by calling the `finalize` function. By default, the files will the created in a directory called `output`, but you can specify a different directory like this:"
   ]
  },
  {
   "cell_type": "code",
   "execution_count": 6,
   "metadata": {
    "collapsed": false
   },
   "outputs": [],
   "source": [
    "g.finalize('output_directory')"
   ]
  },
  {
   "cell_type": "markdown",
   "metadata": {},
   "source": [
    "This program can also be used to calculate the characteristic grain size for any arbitrary percent fine. The function `characteristic_size` can be passed a single value or a list of values"
   ]
  },
  {
   "cell_type": "code",
   "execution_count": 10,
   "metadata": {
    "collapsed": false
   },
   "outputs": [
    {
     "name": "stdout",
     "output_type": "stream",
     "text": [
      "D_90: 1.36079000017 mm\n",
      "D_40: 0.408687078832 mm\n",
      "D_10: 0.180297737936 mm\n"
     ]
    }
   ],
   "source": [
    "grain_stats = g.characteristic_size([90,40,10])\n",
    "\n",
    "print 'D_90:', grain_stats[0], 'mm'\n",
    "print 'D_40:', grain_stats[1], 'mm'\n",
    "print 'D_10:', grain_stats[2], 'mm'"
   ]
  },
  {
   "cell_type": "code",
   "execution_count": null,
   "metadata": {
    "collapsed": true
   },
   "outputs": [],
   "source": []
  }
 ],
 "metadata": {
  "kernelspec": {
   "display_name": "Python 2",
   "language": "python",
   "name": "python2"
  },
  "language_info": {
   "codemirror_mode": {
    "name": "ipython",
    "version": 2
   },
   "file_extension": ".py",
   "mimetype": "text/x-python",
   "name": "python",
   "nbconvert_exporter": "python",
   "pygments_lexer": "ipython2",
   "version": "2.7.11"
  }
 },
 "nbformat": 4,
 "nbformat_minor": 0
}
