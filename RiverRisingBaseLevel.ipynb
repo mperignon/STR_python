{
 "cells": [
  {
   "cell_type": "code",
   "execution_count": null,
   "metadata": {
    "collapsed": true
   },
   "outputs": [],
   "source": [
    "flood_discharge =\n",
    "bedload_discharge_input =\n",
    "fraction_wash_load =\n",
    "flood_intermittency =\n",
    "rho_w = 1000.\n",
    "rho_s = 2650.\n",
    "g = 9.81\n",
    "grain_size = \n",
    "reach_length =\n",
    "floodplain_width =\n",
    "channel_sinuosity =\n",
    "bed_porosity =\n",
    "coeff_Chezy = \n",
    "bed_slope__init =\n",
    "base_level_change =\n",
    "\n",
    "num_intervals =\n",
    "print_time =\n",
    "total_time =\n",
    "dt = \n",
    "base_level_change_start =\n",
    "base_level_change_end =\n",
    "coeff_Engelund =\n",
    "exponent_Engelund =\n",
    "Shields_number_sand =\n",
    "coeff_Parker =\n",
    "exponent_Parker = \n",
    "Shields_number_gravel =\n",
    "\n",
    "\n",
    "# Constants\n",
    "sec_to_year = 60 * 60 * 24 * 365.25\n",
    "\n",
    "# Derivatives\n",
    "R = (float(rho_s) - float(rho_w)) / float(rho_w)\n",
    "\n",
    "assert base_level_change >= 0, 'Only sea level rise allowed.'"
   ]
  },
  {
   "cell_type": "code",
   "execution_count": null,
   "metadata": {
    "collapsed": false
   },
   "outputs": [],
   "source": []
  },
  {
   "cell_type": "code",
   "execution_count": null,
   "metadata": {
    "collapsed": true
   },
   "outputs": [],
   "source": []
  }
 ],
 "metadata": {
  "kernelspec": {
   "display_name": "Python 2",
   "language": "python",
   "name": "python2"
  },
  "language_info": {
   "codemirror_mode": {
    "name": "ipython",
    "version": 2
   },
   "file_extension": ".py",
   "mimetype": "text/x-python",
   "name": "python",
   "nbconvert_exporter": "python",
   "pygments_lexer": "ipython2",
   "version": "2.7.10"
  }
 },
 "nbformat": 4,
 "nbformat_minor": 0
}
