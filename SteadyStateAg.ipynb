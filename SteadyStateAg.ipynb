{
 "cells": [
  {
   "cell_type": "code",
   "execution_count": 63,
   "metadata": {
    "collapsed": false
   },
   "outputs": [],
   "source": [
    "import numpy as np\n",
    "from math import sqrt, log\n",
    "import matplotlib.pyplot as plt\n",
    "%matplotlib inline\n",
    "\n",
    "class SteadyStateAg(object):\n",
    "    \n",
    "    def __init__(self,\n",
    "                 annual_bedload_discharge = 12.,\n",
    "                 channel_length = 400.,\n",
    "                 sea_level_change = 10.,\n",
    "                 bankfull_discharge = 5000.,\n",
    "                 floodplain_width = 8.,\n",
    "                 grain_size = 0.25,\n",
    "                 fraction_washload_deposition = 2.5,\n",
    "                 Shields_number = 1.86,\n",
    "                 coeff_Engelund = 0.05,\n",
    "                 bed_porosity = 0.4,\n",
    "                 flood_intermittence = 0.1,\n",
    "                 coeff_Chezy = 25.,\n",
    "                 channel_sinuosity = 1.5,\n",
    "                 rho_w = 1000.,\n",
    "                 rho_s = 2650.,\n",
    "                 sea_level_elevation = 0.,\n",
    "                 dt = 1000.,\n",
    "                 total_time = 12000.)\n",
    "\n",
    "self.annual_bedload_discharge = float(annual_bedload_discharge) # Mt/yr\n",
    "self.channel_length = float(channel_length) # km\n",
    "self.sea_level_change = float(sea_level_change) # mm/yr\n",
    "self.bankfull_discharge = float(bankfull_discharge) # m3/s\n",
    "self.floodplain_width = float(floodplain_width) # km\n",
    "self.grain_size = float(grain_size) # mm\n",
    "self.fraction_washload_deposition = float(fraction_washload_deposition)\n",
    "self.Shields_number = float(Shields_number)\n",
    "self.coeff_Engelund = float(coeff_Engelund)\n",
    "self.porosity = float(porosity)\n",
    "self.flood_intermittence = float(flood_intermittence)\n",
    "self.channel_sinuosity = float(channel_sinuosity)\n",
    "self.sea_level_elevation = float(sea_level_elevation)\n",
    "self.dt = float(dt)\n",
    "self.self.total_time = float(total_time)\n",
    "self.coeff_Chezy = float(coeff_Chezy)\n",
    "\n",
    "self.R = (float(rho_s) - float(rho_w)) / float(rho_w)\n",
    "\n",
    "\n",
    "\n",
    "self.Cf = 1. / self.coeff_Chezy**2\n",
    "self.Qt = self.annual_bedload_discharge * 1000000. / (31557600. * (self.R + 1.) * self.flood_intermittence)\n",
    "C = Qt / (Qt + bankfull_discharge)\n",
    "BMSS = (R + 1.) * Qt * 1000000. / (Qt + bankfull_discharge)\n",
    "Su = R * sqrt(Cf) * Qt / (coeff_Engelund * Shields_number * bankfull_discharge)\n",
    "beta = ((1. - porosity) * floodplain_width * 1000. * ((sea_level_change / 1000.) / 31557600.) *  1000. * channel_length \n",
    "        / (flood_intermittence * channel_sinuosity * Qt * (1. + fraction_washload_deposition)))\n",
    "\n",
    "assert beta < 1, (\n",
    "    \"Adjust L such that the beta parameter is below 1. \"\n",
    "    \"If beta is greater than 1, the sediment does not reach the delta.\")\n",
    "\n",
    "# set up initial bed\n",
    "xhat = np.array(np.arange(0,1.05,0.05))\n",
    "x = channel_length * xhat\n",
    "\n",
    "# find initial values\n",
    "Qtbf = Qt * (1 - beta * xhat)\n",
    "Sl = Su * (1 - beta * xhat)\n",
    "etahat = Su * ((1 - 0.5 * beta) - xhat + 0.5 * beta * xhat**2)\n",
    "etadev = 1000. * channel_length * etahat\n",
    "etadev[-1] = 0.\n",
    "Bbf = (Cf / (coeff_Engelund * Shields_number**2.5 * sqrt(R))) * (Qtbf / (sqrt(9.81 * grain_size / 1000.) * (grain_size / 1000.)))\n",
    "Hbf = coeff_Engelund * (Shields_number**2  / sqrt(Cf)) * bankfull_discharge * (grain_size / 1000.) / Qtbf\n",
    "\n",
    "output = np.zeros((int(total_time/dt) + 1, len(x)))\n",
    "\n",
    "# run\n",
    "for i in range(int(total_time/dt) + 1):\n",
    "\n",
    "        time = i*dt\n",
    "        \n",
    "        output[i] = sea_level_elevation + (sea_level_change / 1000.)*time + etadev"
   ]
  },
  {
   "cell_type": "code",
   "execution_count": 70,
   "metadata": {
    "collapsed": false
   },
   "outputs": [
    {
     "data": {
      "text/plain": [
       "[<matplotlib.lines.Line2D at 0x105d39590>]"
      ]
     },
     "execution_count": 70,
     "metadata": {},
     "output_type": "execute_result"
    },
    {
     "data": {
      "image/png": "[encoded data removed]",
      "text/plain": [
       "<matplotlib.figure.Figure at 0x105d39c10>"
      ]
     },
     "metadata": {},
     "output_type": "display_data"
    }
   ],
   "source": [
    "import matplotlib.pyplot as plt\n",
    "%matplotlib inline\n",
    "\n",
    "plt.plot(x,output[-1])"
   ]
  },
  {
   "cell_type": "code",
   "execution_count": 67,
   "metadata": {
    "collapsed": false
   },
   "outputs": [
    {
     "data": {
      "text/plain": [
       "array([ 168.5699228 ,  164.57880965,  160.75218251,  157.09004136,\n",
       "        153.59238622,  150.25921708,  147.09053394,  144.08633679,\n",
       "        141.24662565,  138.57140051,  136.06066137,  133.71440823,\n",
       "        131.53264109,  129.51535995,  127.66256482,  125.97425568,\n",
       "        124.45043254,  123.09109541,  121.89624427,  120.86587913,  120.        ])"
      ]
     },
     "execution_count": 67,
     "metadata": {},
     "output_type": "execute_result"
    }
   ],
   "source": [
    "output[-1]"
   ]
  },
  {
   "cell_type": "code",
   "execution_count": null,
   "metadata": {
    "collapsed": true
   },
   "outputs": [],
   "source": []
  }
 ],
 "metadata": {
  "kernelspec": {
   "display_name": "Python 2",
   "language": "python",
   "name": "python2"
  },
  "language_info": {
   "codemirror_mode": {
    "name": "ipython",
    "version": 2
   },
   "file_extension": ".py",
   "mimetype": "text/x-python",
   "name": "python",
   "nbconvert_exporter": "python",
   "pygments_lexer": "ipython2",
   "version": "2.7.10"
  }
 },
 "nbformat": 4,
 "nbformat_minor": 0
}
