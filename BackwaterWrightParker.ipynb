{
 "cells": [
  {
   "cell_type": "code",
   "execution_count": null,
   "metadata": {
    "collapsed": true
   },
   "outputs": [],
   "source": [
    "import numpy as np\n",
    "import json\n",
    "from math import pow, exp, log, sqrt\n",
    "\n",
    "total_discharge = 1800.\n",
    "channel_width = 275.\n",
    "D50 = 0.35\n",
    "D90 = 1.\n",
    "rho_w = 2650.\n",
    "rho_s = 1000.\n",
    "bed_slope = 0.0001\n",
    "water_surface_elev__ds = 20\n",
    "reach_lenght = 200000\n",
    "num_nodes = 50\n",
    "\n",
    "D50 = D50 / 1000.\n",
    "D90 = D90 / 1000.\n",
    "discharge = total_discharge / channel_width\n",
    "dx = reach_length / num_nodes\n",
    "R = (float(rho_s) - float(rho_w)) / float(rho_w)\n",
    "\n",
    "# check that Froude number < 1\n",
    "\n",
    "Froude_number = tot\n",
    "\n",
    "\n"
   ]
  }
 ],
 "metadata": {
  "kernelspec": {
   "display_name": "Python 2",
   "language": "python",
   "name": "python2"
  },
  "language_info": {
   "codemirror_mode": {
    "name": "ipython",
    "version": 2
   },
   "file_extension": ".py",
   "mimetype": "text/x-python",
   "name": "python",
   "nbconvert_exporter": "python",
   "pygments_lexer": "ipython2",
   "version": "2.7.10"
  }
 },
 "nbformat": 4,
 "nbformat_minor": 0
}
