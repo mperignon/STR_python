{
 "cells": [
  {
   "cell_type": "code",
   "execution_count": 1,
   "metadata": {
    "collapsed": true
   },
   "outputs": [],
   "source": [
    "import matplotlib.pyplot as plt\n",
    "%matplotlib inline\n",
    "import numpy as np"
   ]
  },
  {
   "cell_type": "code",
   "execution_count": 3,
   "metadata": {
    "collapsed": false
   },
   "outputs": [
    {
     "data": {
      "text/plain": [
       "<module 'Backwater' from 'Backwater.pyc'>"
      ]
     },
     "execution_count": 3,
     "metadata": {},
     "output_type": "execute_result"
    }
   ],
   "source": [
    "import FallVelocity as fv\n",
    "reload(fv)\n",
    "import Backwater as bw\n",
    "reload(bw)"
   ]
  },
  {
   "cell_type": "code",
   "execution_count": 4,
   "metadata": {
    "collapsed": false
   },
   "outputs": [],
   "source": [
    "f = fv.FallVelocity()"
   ]
  },
  {
   "cell_type": "code",
   "execution_count": 28,
   "metadata": {
    "collapsed": false
   },
   "outputs": [],
   "source": [
    "f.grain_size = 0.1"
   ]
  },
  {
   "cell_type": "code",
   "execution_count": 5,
   "metadata": {
    "collapsed": true
   },
   "outputs": [],
   "source": [
    "f.run()"
   ]
  },
  {
   "cell_type": "code",
   "execution_count": 6,
   "metadata": {
    "collapsed": false
   },
   "outputs": [],
   "source": [
    "f.finalize()"
   ]
  },
  {
   "cell_type": "code",
   "execution_count": 53,
   "metadata": {
    "collapsed": false
   },
   "outputs": [],
   "source": [
    "import Backwater as bw\n",
    "reload(bw)\n",
    "b = bw.Backwater()"
   ]
  },
  {
   "cell_type": "code",
   "execution_count": 54,
   "metadata": {
    "collapsed": false
   },
   "outputs": [],
   "source": [
    "b.run()"
   ]
  },
  {
   "cell_type": "code",
   "execution_count": 55,
   "metadata": {
    "collapsed": false
   },
   "outputs": [],
   "source": [
    "b.finalize()"
   ]
  },
  {
   "cell_type": "code",
   "execution_count": 18,
   "metadata": {
    "collapsed": false
   },
   "outputs": [
    {
     "data": {
      "text/plain": [
       "<module 'AgDegNormal' from 'AgDegNormal.py'>"
      ]
     },
     "execution_count": 18,
     "metadata": {},
     "output_type": "execute_result"
    }
   ],
   "source": [
    "import AgDegNormal as adN\n",
    "reload(adN)"
   ]
  },
  {
   "cell_type": "code",
   "execution_count": 19,
   "metadata": {
    "collapsed": false
   },
   "outputs": [],
   "source": [
    "a = adN.AgDeg()"
   ]
  },
  {
   "cell_type": "code",
   "execution_count": 123,
   "metadata": {
    "collapsed": false
   },
   "outputs": [
    {
     "data": {
      "text/plain": [
       "<module 'GSD_calculator' from 'GSD_calculator.py'>"
      ]
     },
     "execution_count": 123,
     "metadata": {},
     "output_type": "execute_result"
    }
   ],
   "source": [
    "import GSD_calculator as gsd\n",
    "reload(gsd)"
   ]
  },
  {
   "cell_type": "code",
   "execution_count": 124,
   "metadata": {
    "collapsed": false
   },
   "outputs": [],
   "source": [
    "g = gsd.GSD_calculator()\n",
    "g.run()"
   ]
  },
  {
   "cell_type": "code",
   "execution_count": 125,
   "metadata": {
    "collapsed": false
   },
   "outputs": [
    {
     "data": {
      "text/plain": [
       "array([(0.00976438813668527, 0.0), (0.031, 0.02), (0.062, 0.032),\n",
       "       (0.125, 0.1), (0.25, 0.42), (0.5, 0.8340000000000001), (1.0, 0.97),\n",
       "       (2.0, 0.99), (4.0, 1.0)], \n",
       "      dtype=[('diameters', '<f8'), ('fractions', '<f8')])"
      ]
     },
     "execution_count": 125,
     "metadata": {},
     "output_type": "execute_result"
    }
   ],
   "source": [
    "g._datapts"
   ]
  },
  {
   "cell_type": "code",
   "execution_count": 131,
   "metadata": {
    "collapsed": false
   },
   "outputs": [
    {
     "data": {
      "text/plain": [
       "[0.39951691807960471, 0.28583147875448067, 0.19277635317599259]"
      ]
     },
     "execution_count": 131,
     "metadata": {},
     "output_type": "execute_result"
    }
   ],
   "source": [
    "grain_stats = g.characteristic_size([70,50,30])\n",
    "grain_stats"
   ]
  },
  {
   "cell_type": "code",
   "execution_count": 76,
   "metadata": {
    "collapsed": false
   },
   "outputs": [
    {
     "data": {
      "text/plain": [
       "<module 'RouseVanoni_Equilibrium' from 'RouseVanoni_Equilibrium.pyc'>"
      ]
     },
     "execution_count": 76,
     "metadata": {},
     "output_type": "execute_result"
    }
   ],
   "source": [
    "import RouseVanoni_Equilibrium as rv\n",
    "reload(rv)"
   ]
  },
  {
   "cell_type": "code",
   "execution_count": 77,
   "metadata": {
    "collapsed": false
   },
   "outputs": [],
   "source": [
    "r = rv.RouseVanoni_Equilibrium(b = 0.05,\n",
    "                                    u_star = 0.2,\n",
    "                                    settling_velocity = 0.03,\n",
    "                                    save_output = False)"
   ]
  },
  {
   "cell_type": "code",
   "execution_count": 78,
   "metadata": {
    "collapsed": false
   },
   "outputs": [],
   "source": [
    "r.run()\n",
    "r.finalize()"
   ]
  },
  {
   "cell_type": "code",
   "execution_count": 83,
   "metadata": {
    "collapsed": false
   },
   "outputs": [
    {
     "data": {
      "text/plain": [
       "0.30745820244404265"
      ]
     },
     "execution_count": 83,
     "metadata": {},
     "output_type": "execute_result"
    }
   ],
   "source": [
    "r.RV_profile[10,1]"
   ]
  },
  {
   "cell_type": "code",
   "execution_count": 157,
   "metadata": {
    "collapsed": false
   },
   "outputs": [
    {
     "data": {
      "text/plain": [
       "0.03"
      ]
     },
     "execution_count": 157,
     "metadata": {},
     "output_type": "execute_result"
    }
   ],
   "source": [
    "r.settling_velocity"
   ]
  },
  {
   "cell_type": "code",
   "execution_count": 255,
   "metadata": {
    "collapsed": false
   },
   "outputs": [],
   "source": [
    "import DeltaNorm as dbw\n",
    "reload(dbw)\n",
    "\n",
    "d = dbw.DeltaNorm()\n",
    "\n",
    "d.run()\n",
    "d.finalize()"
   ]
  },
  {
   "cell_type": "code",
   "execution_count": 253,
   "metadata": {
    "collapsed": false
   },
   "outputs": [
    {
     "data": {
      "text/plain": [
       "0.0"
      ]
     },
     "execution_count": 253,
     "metadata": {},
     "output_type": "execute_result"
    }
   ],
   "source": [
    "d.eta[-1]"
   ]
  },
  {
   "cell_type": "code",
   "execution_count": 223,
   "metadata": {
    "collapsed": false
   },
   "outputs": [
    {
     "data": {
      "text/plain": [
       "array([     0.        ,    500.44616243,   1000.89232487,   1501.3384873 ,\n",
       "         2001.78464973,   2502.23081217,   3002.6769746 ,   3503.12313703,\n",
       "         4003.56929946,   4504.0154619 ,   5004.46162433,   5504.90778676,\n",
       "         6005.3539492 ,   6505.80011163,   7006.24627406,   7506.6924365 ,\n",
       "         8007.13859893,   8507.58476136,   9008.0309238 ,   9508.47708623,\n",
       "        10008.92324866,  10015.        ])"
      ]
     },
     "execution_count": 223,
     "metadata": {},
     "output_type": "execute_result"
    }
   ],
   "source": [
    "d.print_x[d.fields[0]]"
   ]
  },
  {
   "cell_type": "code",
   "execution_count": 226,
   "metadata": {
    "collapsed": false
   },
   "outputs": [
    {
     "data": {
      "text/plain": [
       "array([ 0.,  0.,  0.,  0.,  0.,  0.,  0.,  0.,  0.,  0.,  0.,  0.,  0.,\n",
       "        0.,  0.,  0.,  0.,  0.,  0.,  0.,  0.,  0.])"
      ]
     },
     "execution_count": 226,
     "metadata": {},
     "output_type": "execute_result"
    }
   ],
   "source": [
    "d.data[:,0]"
   ]
  },
  {
   "cell_type": "code",
   "execution_count": 291,
   "metadata": {
    "collapsed": false
   },
   "outputs": [],
   "source": [
    "import DensityStratification as ds\n",
    "reload(ds)\n",
    "\n",
    "d = ds.DensityStratification()\n",
    "d.run()"
   ]
  },
  {
   "cell_type": "code",
   "execution_count": 293,
   "metadata": {
    "collapsed": false
   },
   "outputs": [
    {
     "data": {
      "text/plain": [
       "array([ 16.55018302,  22.92434539,  26.14876617,  28.15368077,\n",
       "        29.57928806,  30.67386979,  31.55631845,  32.29208724,\n",
       "        32.9208178 ,  33.46823572,  33.9519315 ,  34.3844358 ,\n",
       "        34.7749739 ,  35.13052418,  35.45648648,  35.7571204 ,\n",
       "        36.03584226,  36.29543173,  36.5381792 ,  36.76599316,\n",
       "        36.98047965,  37.18300236,  37.37472846,  37.55666424,\n",
       "        37.72968294,  37.894547  ,  38.0519257 ,  38.20240955,\n",
       "        38.346522  ,  38.48472895,  38.61744681,  38.74504901,\n",
       "        38.86787159,  38.98621783,  39.10036224,  39.21055386,\n",
       "        39.31701912,  39.41996432,  39.51957766,  39.61603107,\n",
       "        39.7094817 ,  39.80007323,  39.88793693,  39.9731925 ,\n",
       "        40.05594882,  40.13630429,  40.21434711,  40.29015506,\n",
       "        40.36379489,  40.43532092,  40.49431143])"
      ]
     },
     "execution_count": 293,
     "metadata": {},
     "output_type": "execute_result"
    }
   ],
   "source": [
    "d.normalized_velocity_with_stratification"
   ]
  },
  {
   "cell_type": "code",
   "execution_count": 326,
   "metadata": {
    "collapsed": true
   },
   "outputs": [],
   "source": [
    "import SteadyStateAg as ss\n",
    "reload(ss)\n",
    "\n",
    "s = ss.SteadyStateAg()\n",
    "s.run()"
   ]
  },
  {
   "cell_type": "code",
   "execution_count": 325,
   "metadata": {
    "collapsed": false
   },
   "outputs": [],
   "source": [
    "s.finalize()"
   ]
  },
  {
   "cell_type": "code",
   "execution_count": 23,
   "metadata": {
    "collapsed": false
   },
   "outputs": [],
   "source": [
    "import AgDegNormalSub as ad\n",
    "reload(ad)\n",
    "\n",
    "a = ad.AgDegNormalSub(friction = 'Manning',\n",
    "\t\t\t\t\t\t\t Qf = 70,\n",
    "\t\t\t\t\t\t\t If = 0.03,\n",
    "\t\t\t\t\t\t\t L = 10000,\n",
    "\t\t\t\t\t\t\t dx = 100,\n",
    "\t\t\t\t\t\t\t S = 0.008,\n",
    "\t\t\t\t\t\t\t Gtf = 700000,\n",
    "\t\t\t\t\t\t\t D = 30,\n",
    "\t\t\t\t\t\t\t porosity = 0.35,\n",
    "\t\t\t\t\t\t\t kc = 75,\n",
    "\t\t\t\t\t\t\t phi = 1,\n",
    "\t\t\t\t\t\t\t alpha_r = 8.1,\n",
    "\t\t\t\t\t\t\t alpha_t = 8.,\n",
    "\t\t\t\t\t\t\t tau_c = 0.047,\n",
    "\t\t\t\t\t\t\t nt = 1.5,\n",
    "\t\t\t\t\t\t\t Cz = 22,\n",
    "\t\t\t\t\t\t\t alpha_u = 0.5,\n",
    "\t\t\t\t\t\t\t dt = 0.01,\n",
    "\t\t\t\t\t\t\t totalT = 120,\n",
    "\t\t\t\t\t\t\t print_dt = 20,\n",
    "\t\t\t\t\t\t\t g = 9.81,\n",
    "\t\t\t\t\t\t\t rho_w = 1000,\n",
    "\t\t\t\t\t\t\t rho_s = 2650,\n",
    "\t\t\t\t\t\t\t subsidence = 5,\n",
    "\t\t\t\t\t\t\t channel_width = 25,\n",
    "\t\t\t\t\t\t\t depositional_width = 25*60,\n",
    "\t\t\t\t\t\t\t washload_fraction = 1.5,\n",
    "\t\t\t\t\t\t\t sinuosity = 1.5,\n",
    "\t\t\t\t\t\t\t verbose = False,\n",
    "\t\t\t\t\t\t\t save_output = False)\n",
    "a.run()\n",
    "a.finalize()"
   ]
  },
  {
   "cell_type": "code",
   "execution_count": 26,
   "metadata": {
    "collapsed": false
   },
   "outputs": [
    {
     "data": {
      "text/plain": [
       "(102.26911259423767, 0.23724567562372906)"
      ]
     },
     "execution_count": 26,
     "metadata": {},
     "output_type": "execute_result"
    }
   ],
   "source": [
    "var = a.bed_elevation\n",
    "var[0], var[-2]"
   ]
  },
  {
   "cell_type": "code",
   "execution_count": 107,
   "metadata": {
    "collapsed": false
   },
   "outputs": [],
   "source": [
    "import Acronym_D as acr\n",
    "reload(acr)\n",
    "\n",
    "a = acr.Acronym_D()\n",
    "a.run()\n",
    "a.finalize()"
   ]
  },
  {
   "cell_type": "code",
   "execution_count": 66,
   "metadata": {
    "collapsed": false
   },
   "outputs": [
    {
     "data": {
      "text/plain": [
       "array([ (34.0, 0.9959459023328753, 0.20904528549189427, 0.17161731998420054, 0.002408775290475485, [0.0, 52.42400244888638, 100.0])], \n",
       "      dtype=[('Q', '<f8'), ('H', '<f8'), ('ustar', '<f8'), ('Shields', '<f8'), ('q_bedload', '<f8'), ('percent_finer', '<f8', (3,))])"
      ]
     },
     "execution_count": 66,
     "metadata": {},
     "output_type": "execute_result"
    }
   ],
   "source": [
    "a.averages"
   ]
  },
  {
   "cell_type": "code",
   "execution_count": 62,
   "metadata": {
    "collapsed": false
   },
   "outputs": [
    {
     "data": {
      "text/plain": [
       "{'Dg': 15.733415362194647,\n",
       " 'sigma': 0.49941207555762934,\n",
       " 'sigma_g': 1.4136373620647387}"
      ]
     },
     "execution_count": 62,
     "metadata": {},
     "output_type": "execute_result"
    }
   ],
   "source": [
    "a.bedload_statistics"
   ]
  },
  {
   "cell_type": "code",
   "execution_count": 111,
   "metadata": {
    "collapsed": false
   },
   "outputs": [
    {
     "data": {
      "text/plain": [
       "27.661547759243085"
      ]
     },
     "execution_count": 111,
     "metadata": {},
     "output_type": "execute_result"
    }
   ],
   "source": [
    "a.characteristic_size['bedload'][3]"
   ]
  },
  {
   "cell_type": "code",
   "execution_count": 113,
   "metadata": {
    "collapsed": false
   },
   "outputs": [
    {
     "data": {
      "text/plain": [
       "1.4142135623730951"
      ]
     },
     "execution_count": 113,
     "metadata": {},
     "output_type": "execute_result"
    }
   ],
   "source": [
    "a.surface_statistics['sigma_g']"
   ]
  },
  {
   "cell_type": "code",
   "execution_count": 114,
   "metadata": {
    "collapsed": false
   },
   "outputs": [
    {
     "data": {
      "text/plain": [
       "15.733415362194647"
      ]
     },
     "execution_count": 114,
     "metadata": {},
     "output_type": "execute_result"
    }
   ],
   "source": [
    "a.bedload_statistics['Dg']"
   ]
  },
  {
   "cell_type": "code",
   "execution_count": 118,
   "metadata": {
    "collapsed": false
   },
   "outputs": [
    {
     "data": {
      "text/plain": [
       "0.20904528549189427"
      ]
     },
     "execution_count": 118,
     "metadata": {},
     "output_type": "execute_result"
    }
   ],
   "source": [
    "a.averages['ustar'][0]"
   ]
  },
  {
   "cell_type": "code",
   "execution_count": 91,
   "metadata": {
    "collapsed": false
   },
   "outputs": [],
   "source": [
    "mydict = dict(zip(list(a.averages.dtype.names)[:-1], a.averages))"
   ]
  },
  {
   "cell_type": "code",
   "execution_count": 92,
   "metadata": {
    "collapsed": false
   },
   "outputs": [
    {
     "data": {
      "text/plain": [
       "{'Q': (34.0, 0.9959459023328753, 0.20904528549189427, 0.17161731998420054, 0.002408775290475485, [0.0, 52.42400244888638, 100.0])}"
      ]
     },
     "execution_count": 92,
     "metadata": {},
     "output_type": "execute_result"
    }
   ],
   "source": [
    "mydict"
   ]
  },
  {
   "cell_type": "code",
   "execution_count": 93,
   "metadata": {
    "collapsed": false
   },
   "outputs": [],
   "source": [
    "names = a.averages.dtype.names"
   ]
  },
  {
   "cell_type": "code",
   "execution_count": 99,
   "metadata": {
    "collapsed": false
   },
   "outputs": [],
   "source": [
    "flow_dict = [dict(zip(a.averages.dtype.names, record)) for record in a.averages][0]"
   ]
  },
  {
   "cell_type": "code",
   "execution_count": 100,
   "metadata": {
    "collapsed": false
   },
   "outputs": [
    {
     "data": {
      "text/plain": [
       "array([   0.        ,   52.42400245,  100.        ])"
      ]
     },
     "execution_count": 100,
     "metadata": {},
     "output_type": "execute_result"
    }
   ],
   "source": [
    "flow_dict['percent_finer']"
   ]
  },
  {
   "cell_type": "code",
   "execution_count": 104,
   "metadata": {
    "collapsed": false
   },
   "outputs": [],
   "source": [
    "p_finer_dict = [dict(zip(list(a.percent_finer['diameter']), flow_dict['percent_finer']))]"
   ]
  },
  {
   "cell_type": "code",
   "execution_count": 105,
   "metadata": {
    "collapsed": false
   },
   "outputs": [
    {
     "data": {
      "text/plain": [
       "[{8.0: 0.0, 16.0: 52.424002448886377, 32.0: 100.0}]"
      ]
     },
     "execution_count": 105,
     "metadata": {},
     "output_type": "execute_result"
    }
   ],
   "source": [
    "p_finer_dict"
   ]
  },
  {
   "cell_type": "code",
   "execution_count": 109,
   "metadata": {
    "collapsed": false
   },
   "outputs": [
    {
     "data": {
      "text/plain": [
       "52.424002448886377"
      ]
     },
     "execution_count": 109,
     "metadata": {},
     "output_type": "execute_result"
    }
   ],
   "source": [
    "a.percent_finer['bedload'][1]"
   ]
  },
  {
   "cell_type": "code",
   "execution_count": 364,
   "metadata": {
    "collapsed": false
   },
   "outputs": [],
   "source": [
    "import DensityStratification as ds\n",
    "reload(ds)\n",
    "\n",
    "d = ds.DensityStratification()\n",
    "d.run()\n",
    "d.finalize()"
   ]
  },
  {
   "cell_type": "code",
   "execution_count": 369,
   "metadata": {
    "collapsed": false
   },
   "outputs": [
    {
     "data": {
      "text/plain": [
       "0.0009073334043798784"
      ]
     },
     "execution_count": 369,
     "metadata": {},
     "output_type": "execute_result"
    }
   ],
   "source": [
    "d.conc_norm_init[-1]"
   ]
  },
  {
   "cell_type": "code",
   "execution_count": null,
   "metadata": {
    "collapsed": true
   },
   "outputs": [],
   "source": []
  }
 ],
 "metadata": {
  "kernelspec": {
   "display_name": "Python 2",
   "language": "python",
   "name": "python2"
  },
  "language_info": {
   "codemirror_mode": {
    "name": "ipython",
    "version": 2
   },
   "file_extension": ".py",
   "mimetype": "text/x-python",
   "name": "python",
   "nbconvert_exporter": "python",
   "pygments_lexer": "ipython2",
   "version": "2.7.10"
  }
 },
 "nbformat": 4,
 "nbformat_minor": 0
}
