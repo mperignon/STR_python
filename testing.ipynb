{
 "cells": [
  {
   "cell_type": "code",
   "execution_count": 1,
   "metadata": {
    "collapsed": true
   },
   "outputs": [],
   "source": [
    "import matplotlib.pyplot as plt\n",
    "%matplotlib inline\n",
    "import numpy as np"
   ]
  },
  {
   "cell_type": "code",
   "execution_count": 3,
   "metadata": {
    "collapsed": false
   },
   "outputs": [
    {
     "data": {
      "text/plain": [
       "<module 'Backwater' from 'Backwater.pyc'>"
      ]
     },
     "execution_count": 3,
     "metadata": {},
     "output_type": "execute_result"
    }
   ],
   "source": [
    "import FallVelocity as fv\n",
    "reload(fv)\n",
    "import Backwater as bw\n",
    "reload(bw)"
   ]
  },
  {
   "cell_type": "code",
   "execution_count": 4,
   "metadata": {
    "collapsed": false
   },
   "outputs": [],
   "source": [
    "f = fv.FallVelocity()"
   ]
  },
  {
   "cell_type": "code",
   "execution_count": 28,
   "metadata": {
    "collapsed": false
   },
   "outputs": [],
   "source": [
    "f.grain_size = 0.1"
   ]
  },
  {
   "cell_type": "code",
   "execution_count": 5,
   "metadata": {
    "collapsed": true
   },
   "outputs": [],
   "source": [
    "f.run()"
   ]
  },
  {
   "cell_type": "code",
   "execution_count": 6,
   "metadata": {
    "collapsed": false
   },
   "outputs": [],
   "source": [
    "f.finalize()"
   ]
  },
  {
   "cell_type": "code",
   "execution_count": 53,
   "metadata": {
    "collapsed": false
   },
   "outputs": [],
   "source": [
    "import Backwater as bw\n",
    "reload(bw)\n",
    "b = bw.Backwater()"
   ]
  },
  {
   "cell_type": "code",
   "execution_count": 54,
   "metadata": {
    "collapsed": false
   },
   "outputs": [],
   "source": [
    "b.run()"
   ]
  },
  {
   "cell_type": "code",
   "execution_count": 55,
   "metadata": {
    "collapsed": false
   },
   "outputs": [],
   "source": [
    "b.finalize()"
   ]
  },
  {
   "cell_type": "code",
   "execution_count": 18,
   "metadata": {
    "collapsed": false
   },
   "outputs": [
    {
     "data": {
      "text/plain": [
       "<module 'AgDegNormal' from 'AgDegNormal.py'>"
      ]
     },
     "execution_count": 18,
     "metadata": {},
     "output_type": "execute_result"
    }
   ],
   "source": [
    "import AgDegNormal as adN\n",
    "reload(adN)"
   ]
  },
  {
   "cell_type": "code",
   "execution_count": 19,
   "metadata": {
    "collapsed": false
   },
   "outputs": [],
   "source": [
    "a = adN.AgDeg()"
   ]
  },
  {
   "cell_type": "code",
   "execution_count": 123,
   "metadata": {
    "collapsed": false
   },
   "outputs": [
    {
     "data": {
      "text/plain": [
       "<module 'GSD_calculator' from 'GSD_calculator.py'>"
      ]
     },
     "execution_count": 123,
     "metadata": {},
     "output_type": "execute_result"
    }
   ],
   "source": [
    "import GSD_calculator as gsd\n",
    "reload(gsd)"
   ]
  },
  {
   "cell_type": "code",
   "execution_count": 124,
   "metadata": {
    "collapsed": false
   },
   "outputs": [],
   "source": [
    "g = gsd.GSD_calculator()\n",
    "g.run()"
   ]
  },
  {
   "cell_type": "code",
   "execution_count": 125,
   "metadata": {
    "collapsed": false
   },
   "outputs": [
    {
     "data": {
      "text/plain": [
       "array([(0.00976438813668527, 0.0), (0.031, 0.02), (0.062, 0.032),\n",
       "       (0.125, 0.1), (0.25, 0.42), (0.5, 0.8340000000000001), (1.0, 0.97),\n",
       "       (2.0, 0.99), (4.0, 1.0)], \n",
       "      dtype=[('diameters', '<f8'), ('fractions', '<f8')])"
      ]
     },
     "execution_count": 125,
     "metadata": {},
     "output_type": "execute_result"
    }
   ],
   "source": [
    "g._datapts"
   ]
  },
  {
   "cell_type": "code",
   "execution_count": 131,
   "metadata": {
    "collapsed": false
   },
   "outputs": [
    {
     "data": {
      "text/plain": [
       "[0.39951691807960471, 0.28583147875448067, 0.19277635317599259]"
      ]
     },
     "execution_count": 131,
     "metadata": {},
     "output_type": "execute_result"
    }
   ],
   "source": [
    "grain_stats = g.characteristic_size([70,50,30])\n",
    "grain_stats"
   ]
  },
  {
   "cell_type": "code",
   "execution_count": 76,
   "metadata": {
    "collapsed": false
   },
   "outputs": [
    {
     "data": {
      "text/plain": [
       "<module 'RouseVanoni_Equilibrium' from 'RouseVanoni_Equilibrium.pyc'>"
      ]
     },
     "execution_count": 76,
     "metadata": {},
     "output_type": "execute_result"
    }
   ],
   "source": [
    "import RouseVanoni_Equilibrium as rv\n",
    "reload(rv)"
   ]
  },
  {
   "cell_type": "code",
   "execution_count": 77,
   "metadata": {
    "collapsed": false
   },
   "outputs": [],
   "source": [
    "r = rv.RouseVanoni_Equilibrium(b = 0.05,\n",
    "                                    u_star = 0.2,\n",
    "                                    settling_velocity = 0.03,\n",
    "                                    save_output = False)"
   ]
  },
  {
   "cell_type": "code",
   "execution_count": 78,
   "metadata": {
    "collapsed": false
   },
   "outputs": [],
   "source": [
    "r.run()\n",
    "r.finalize()"
   ]
  },
  {
   "cell_type": "code",
   "execution_count": 83,
   "metadata": {
    "collapsed": false
   },
   "outputs": [
    {
     "data": {
      "text/plain": [
       "0.30745820244404265"
      ]
     },
     "execution_count": 83,
     "metadata": {},
     "output_type": "execute_result"
    }
   ],
   "source": [
    "r.RV_profile[10,1]"
   ]
  },
  {
   "cell_type": "code",
   "execution_count": 157,
   "metadata": {
    "collapsed": false
   },
   "outputs": [
    {
     "data": {
      "text/plain": [
       "0.03"
      ]
     },
     "execution_count": 157,
     "metadata": {},
     "output_type": "execute_result"
    }
   ],
   "source": [
    "r.settling_velocity"
   ]
  },
  {
   "cell_type": "code",
   "execution_count": 235,
   "metadata": {
    "collapsed": false
   },
   "outputs": [],
   "source": [
    "import DeltaBW as dbw\n",
    "reload(dbw)\n",
    "\n",
    "d = dbw.DeltaBW(friction = \"Chezy\",\n",
    "                        flood_discharge = 6.,\n",
    "                        flood_intermittency = 1.,\n",
    "                        bedload_discharge_input = 0.001,\n",
    "                        grain_size = 0.5,\n",
    "                        coeff_Chezy = 15.,\n",
    "                        exponent_load_relation = 2.5,\n",
    "                        critical_Shields_stress = 0.,\n",
    "                        foreset_elev__top__init = 3.,\n",
    "                        foreset_elev__base__init = 0.,\n",
    "                        bed_slope__init = 0.00025,\n",
    "                        basin_slope = 0.,\n",
    "                        domain_length = 10000.,\n",
    "                        domain_length_max = 500000.,\n",
    "                        foreset_slope = 0.2,\n",
    "                        bed_porosity = 0.4,\n",
    "                        coeff_Manning_ks = 0.3,\n",
    "                        coeff_bedload = 7.2,\n",
    "                        coeff_Manning = 8.1,\n",
    "                        dx = 500.,\n",
    "                        dt__days = 0.182625,\n",
    "                        num_iterations = 10000,\n",
    "                        print_step = 5000,\n",
    "                        density_sediment = 2650.,\n",
    "                        density_water = 1000.,\n",
    "                        basin_water_surface_elevation = 8.5,\n",
    "                        verbose = False,\n",
    "                        save_output = False)\n",
    "\n",
    "d.run()\n",
    "d.finalize()"
   ]
  },
  {
   "cell_type": "code",
   "execution_count": 242,
   "metadata": {
    "collapsed": false
   },
   "outputs": [
    {
     "data": {
      "text/plain": [
       "15.154555352651583"
      ]
     },
     "execution_count": 242,
     "metadata": {},
     "output_type": "execute_result"
    }
   ],
   "source": [
    "d.eta_upstream"
   ]
  },
  {
   "cell_type": "code",
   "execution_count": 223,
   "metadata": {
    "collapsed": false
   },
   "outputs": [
    {
     "data": {
      "text/plain": [
       "array([     0.        ,    500.44616243,   1000.89232487,   1501.3384873 ,\n",
       "         2001.78464973,   2502.23081217,   3002.6769746 ,   3503.12313703,\n",
       "         4003.56929946,   4504.0154619 ,   5004.46162433,   5504.90778676,\n",
       "         6005.3539492 ,   6505.80011163,   7006.24627406,   7506.6924365 ,\n",
       "         8007.13859893,   8507.58476136,   9008.0309238 ,   9508.47708623,\n",
       "        10008.92324866,  10015.        ])"
      ]
     },
     "execution_count": 223,
     "metadata": {},
     "output_type": "execute_result"
    }
   ],
   "source": [
    "d.print_x[d.fields[0]]"
   ]
  },
  {
   "cell_type": "code",
   "execution_count": 226,
   "metadata": {
    "collapsed": false
   },
   "outputs": [
    {
     "data": {
      "text/plain": [
       "array([ 0.,  0.,  0.,  0.,  0.,  0.,  0.,  0.,  0.,  0.,  0.,  0.,  0.,\n",
       "        0.,  0.,  0.,  0.,  0.,  0.,  0.,  0.,  0.])"
      ]
     },
     "execution_count": 226,
     "metadata": {},
     "output_type": "execute_result"
    }
   ],
   "source": [
    "d.data[:,0]"
   ]
  },
  {
   "cell_type": "code",
   "execution_count": null,
   "metadata": {
    "collapsed": true
   },
   "outputs": [],
   "source": []
  }
 ],
 "metadata": {
  "kernelspec": {
   "display_name": "Python 2",
   "language": "python",
   "name": "python2"
  },
  "language_info": {
   "codemirror_mode": {
    "name": "ipython",
    "version": 2
   },
   "file_extension": ".py",
   "mimetype": "text/x-python",
   "name": "python",
   "nbconvert_exporter": "python",
   "pygments_lexer": "ipython2",
   "version": "2.7.10"
  }
 },
 "nbformat": 4,
 "nbformat_minor": 0
}
