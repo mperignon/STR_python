{
 "cells": [
  {
   "cell_type": "markdown",
   "metadata": {},
   "source": [
    "# Calculating the Backwater Equation for Subcritical Flow"
   ]
  },
  {
   "cell_type": "markdown",
   "metadata": {},
   "source": [
    "The program solves the backwater equation for subcritical flow with a predictor – corrector scheme.\n",
    "\n",
    "For a more detailed description of the theoretical formulation of the problem and of the code, see Chapter 5 “Review of 1D open channel hydraulics” [[download PPT]](http://hydrolab.illinois.edu/people/parkerg/_private/e-bookPowerPoint/RTe-bookCh5Hydraulics.ppt) of Gary Parker's e-book.\n",
    "\n",
    "The input parameters are:\n",
    "\n",
    "* `S`: Bed slope\n",
    "\n",
    "                 friction = \"Chezy\",\n",
    "                 qw = 5.7,\n",
    "                 initdepth = 30.,\n",
    "                 S = 0.00025,\n",
    "                 total_x = 123000,\n",
    "                 dx = 1000,\n",
    "                 alpha = 8.1,\n",
    "                 n = 2,\n",
    "                 D90 = .91,\n",
    "                 D50 = .27,\n",
    "                 Cz = 22,\n",
    "                 rho_w = 1000,\n",
    "                 rho_s = 2650,\n",
    "                 g = 9.81,\n",
    "                 verbose = False,\n",
    "                 save_output = True):\n",
    "\n",
    ">This program computes the settling velocity of a particle with the formulation of Dietrich (1982).\n",
    ">\n",
    ">For a more detailed description of the theoretical formulation of the problem and of the code, see Chapter 2 “Characterization of Sediment and Grain Size Distributions” [[download PPT]](http://hydrolab.illinois.edu/people/parkerg/_private/e-bookPowerPoint/RTe-bookCh2SedimentGSD.ppt) of Gary Parker's e-book.\n",
    "><br>\n",
    ">\n",
    ">The input parameters are:\n",
    ">\n",
    ">* `grain_size`: Sediment particle size, $D$ (mm)\n",
    ">* `nu`: Kinematic viscosity of the liquid, $\\nu$ (m$^2$/s)\n",
    ">* `g`: Acceleration due to gravity, $g$ (m/s$^2$)\n",
    ">* `rho_w`: Density of water, $\\rho_w$ (Kg/m$^3$)\n",
    ">* `rho_s`: Density of sediment, $\\rho_s$ (Kg/m$^3$)\n",
    ">\n",
    "><br>\n",
    ">The output parameters are:\n",
    ">\n",
    ">* `settling_velocity`: Particle settling velocity, $v_s$ (m/s)\n",
    ">* `Reynolds_number`: Particle Reynolds number, $R_e$\n",
    ">* `dimensionless_fall_velocity`: Dimensionless fall velocity of the particle, $R_f$\n",
    ">\n",
    "><br>\n",
    ">The program solves the equations:\n",
    ">\n",
    ">$v_s = R_f \\sqrt{RgD}$\n",
    ">\n",
    ">$R_e = \\frac{D\\sqrt{RgD}}{\\nu}$\n",
    ">\n",
    ">$R_f = \\frac{v_s}{\\sqrt{RgD}}$\n",
    ">\n",
    ">### Notes:\n",
    ">\n",
    ">* These calculations are only valid for Reynold's numbers less than or equal to $2.5 x {10}^6$. If $R_e$ is greater than this upper limit, the code warns and exits.\n",
    ">\n",
    "> * Initializing the Fall Velocity code with the argument `verbose = True` automatically prints information about the default parameters and outputs.\n",
    ">\n",
    ">### References:\n",
    ">\n",
    ">Dietrich, E. W., 1982, Settling velocity of natural particles, Water Resources Research, 18 (6), 1626-1982."
   ]
  },
  {
   "cell_type": "markdown",
   "metadata": {
    "collapsed": true
   },
   "source": [
    "To run this program, first import the Fall Velocity code and initiate it:"
   ]
  },
  {
   "cell_type": "code",
   "execution_count": 1,
   "metadata": {
    "collapsed": false
   },
   "outputs": [],
   "source": [
    "from STR_code.FallVelocity import FallVelocity\n",
    "\n",
    "f = FallVelocity()"
   ]
  },
  {
   "cell_type": "markdown",
   "metadata": {
    "collapsed": false
   },
   "source": [
    "The code is initialized with default values for the input parameters. To access these variables, we can type:"
   ]
  },
  {
   "cell_type": "code",
   "execution_count": 3,
   "metadata": {
    "collapsed": false
   },
   "outputs": [
    {
     "name": "stdout",
     "output_type": "stream",
     "text": [
      "Grain size: 0.1 mm\n",
      "Kinematic viscosity: 1e-06 m^2/s\n",
      "Graviatational acceleration: 9.81 m/s^2\n",
      "Density of fluid: 1000.0 Kg/m^3\n",
      "Density of sediment: 2650.0 Kg/m^3\n"
     ]
    }
   ],
   "source": [
    "print 'Grain size:', f.grain_size, 'mm'\n",
    "print 'Kinematic viscosity:', f.nu, 'm^2/s'\n",
    "print 'Graviatational acceleration:', f.g, 'm/s^2'\n",
    "print 'Density of fluid:', f.rho_w, 'Kg/m^3'\n",
    "print 'Density of sediment:', f.rho_s, 'Kg/m^3'"
   ]
  },
  {
   "cell_type": "markdown",
   "metadata": {},
   "source": [
    "We can change these parameters by assigning new values to them:"
   ]
  },
  {
   "cell_type": "code",
   "execution_count": 2,
   "metadata": {
    "collapsed": false
   },
   "outputs": [
    {
     "name": "stdout",
     "output_type": "stream",
     "text": [
      "Grain size: 0.2 mm\n"
     ]
    }
   ],
   "source": [
    "f.grain_size = 0.2\n",
    "print 'Grain size:', f.grain_size, 'mm'"
   ]
  },
  {
   "cell_type": "markdown",
   "metadata": {},
   "source": [
    "To run the program, we type:"
   ]
  },
  {
   "cell_type": "code",
   "execution_count": 3,
   "metadata": {
    "collapsed": true
   },
   "outputs": [],
   "source": [
    "f.run()"
   ]
  },
  {
   "cell_type": "markdown",
   "metadata": {},
   "source": [
    "This command just solves the equations. It doesn't produce any visible output on the screen and doesn't save a file. To access the output, we can call the individual variables:"
   ]
  },
  {
   "cell_type": "code",
   "execution_count": 8,
   "metadata": {
    "collapsed": false
   },
   "outputs": [
    {
     "name": "stdout",
     "output_type": "stream",
     "text": [
      "Settling velocity: 2.95458856805 m/s\n",
      "Reynolds number of the particle: 359849.968737\n",
      "Dimensionless fall velocity: 1.64212245366\n"
     ]
    }
   ],
   "source": [
    "print 'Settling velocity:', f.settling_velocity, 'm/s'\n",
    "print 'Reynolds number of the particle:', f.Reynolds_number\n",
    "print 'Dimensionless fall velocity:', f.dimensionless_fall_velocity"
   ]
  },
  {
   "cell_type": "markdown",
   "metadata": {},
   "source": [
    "We can save the input and output parameters of the code to files by calling the `finalize` function. By default, the files will the created in a directory called `output`, but you can specify a different directory like this:"
   ]
  },
  {
   "cell_type": "code",
   "execution_count": 6,
   "metadata": {
    "collapsed": false
   },
   "outputs": [],
   "source": [
    "f.finalize('output_directory')"
   ]
  },
  {
   "cell_type": "raw",
   "metadata": {},
   "source": []
  }
 ],
 "metadata": {
  "kernelspec": {
   "display_name": "Python 2",
   "language": "python",
   "name": "python2"
  },
  "language_info": {
   "codemirror_mode": {
    "name": "ipython",
    "version": 2
   },
   "file_extension": ".py",
   "mimetype": "text/x-python",
   "name": "python",
   "nbconvert_exporter": "python",
   "pygments_lexer": "ipython2",
   "version": "2.7.11"
  }
 },
 "nbformat": 4,
 "nbformat_minor": 0
}
