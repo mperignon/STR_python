{
 "cells": [
  {
   "cell_type": "markdown",
   "metadata": {},
   "source": [
    "# Calculating Suspended Sediment Concentration Profiles"
   ]
  },
  {
   "cell_type": "markdown",
   "metadata": {},
   "source": [
    "This program computes the Rouse-Vanoni profile of suspended sediment concentration at equilibrium.\n",
    "\n",
    "For a more detailed description of the theoretical formulation of the problem and of the code, see Chapter 10 “Relations for the Entrainment and 1D Transport of Suspended Sediment” [[download PPT]](http://hydrolab.illinois.edu/people/parkerg/_private/e-bookPowerPoint/RTe-bookCh10SuspendedSediment.ppt) of Gary Parker's e-book.\n",
    "\n",
    "----------------------------------------------\n",
    "Parameters:\n",
    "H: Water depth\n",
    "eta: Height of the cross-section above the bed\n",
    "        eta=0 on the bed surface\n",
    "        eta=H on the water surface\n",
    "eta_b: Position near the bed surface where the volumetric concentration of\n",
    "        suspended sediment is equal to Cb\n",
    "u_star: Shear velocity\n",
    "vs: Particle settling velocity\n",
    "C: Concentration of suspended sediment in the water column at elevation eta\n",
    "   averaged over turbulence\n",
    "Cb: Concentration of suspended sediment in the water column at eta = eta_b\n",
    "    averaged over turbulence. Cb can be computed with entrainment relationships\n",
    "\n",
    "Input:\n",
    "b: Non-dimensional distance from the bed surface where Cb is computed\n",
    "vs: Settling velocity of the particles (m/s)\n",
    "u_star: Shear velocity (m/s)\n",
    "spacing: Spacing between points on the vertical profile\n",
    "\n",
    "Output:\n",
    "Non-dimensional equilibrium profile of suspended sediment concentration.\n",
    "The height in the water column is expressed in terms of z = eta/H and the\n",
    "volumetric concentration averaged over the turbulence as C/Cb.\n",
    "    At eta = b, C/Cb = 1\n",
    "    At eta = 1, C/Cb = 0\n",
    "\n",
    "\n",
    "Equations:\n",
    "\n",
    "Non-dimensional expression of the Rouse-Vanoni profile:\n",
    "\\frac{C}{Cb} = \\left[\\frac{(1-z)/z}{(1-b)/b}\\right]^{vs/(\\kappa*u_\\star)}\n",
    "where \\kappa is VonKarman's constant (0.4), z is a non-dimensional height above the bed\n",
    "defined as eta/H, and b is the non-dimensional near-bed distance equal to eta_b/H"
   ]
  },
  {
   "cell_type": "markdown",
   "metadata": {
    "collapsed": true
   },
   "source": [
    "To run this program, first import the Fall Velocity code and initiate it:"
   ]
  },
  {
   "cell_type": "code",
   "execution_count": 1,
   "metadata": {
    "collapsed": false
   },
   "outputs": [],
   "source": [
    "from STR_code.FallVelocity import FallVelocity\n",
    "\n",
    "f = FallVelocity()"
   ]
  },
  {
   "cell_type": "markdown",
   "metadata": {
    "collapsed": false
   },
   "source": [
    "The code is initialized with default values for the input parameters. To access these variables, we can type:"
   ]
  },
  {
   "cell_type": "code",
   "execution_count": 3,
   "metadata": {
    "collapsed": false
   },
   "outputs": [
    {
     "name": "stdout",
     "output_type": "stream",
     "text": [
      "Grain size: 0.1 mm\n",
      "Kinematic viscosity: 1e-06 m^2/s\n",
      "Graviatational acceleration: 9.81 m/s^2\n",
      "Density of fluid: 1000.0 Kg/m^3\n",
      "Density of sediment: 2650.0 Kg/m^3\n"
     ]
    }
   ],
   "source": [
    "print 'Grain size:', f.grain_size, 'mm'\n",
    "print 'Kinematic viscosity:', f.nu, 'm^2/s'\n",
    "print 'Graviatational acceleration:', f.g, 'm/s^2'\n",
    "print 'Density of fluid:', f.rho_w, 'Kg/m^3'\n",
    "print 'Density of sediment:', f.rho_s, 'Kg/m^3'"
   ]
  },
  {
   "cell_type": "markdown",
   "metadata": {},
   "source": [
    "We can change these parameters by assigning new values to them:"
   ]
  },
  {
   "cell_type": "code",
   "execution_count": 2,
   "metadata": {
    "collapsed": false
   },
   "outputs": [
    {
     "name": "stdout",
     "output_type": "stream",
     "text": [
      "Grain size: 0.2 mm\n"
     ]
    }
   ],
   "source": [
    "f.grain_size = 0.2\n",
    "print 'Grain size:', f.grain_size, 'mm'"
   ]
  },
  {
   "cell_type": "markdown",
   "metadata": {},
   "source": [
    "To run the program, we type:"
   ]
  },
  {
   "cell_type": "code",
   "execution_count": 3,
   "metadata": {
    "collapsed": true
   },
   "outputs": [],
   "source": [
    "f.run()"
   ]
  },
  {
   "cell_type": "markdown",
   "metadata": {},
   "source": [
    "This command just solves the equations. It doesn't produce any visible output on the screen and doesn't save a file. To access the output, we can call the individual variables:"
   ]
  },
  {
   "cell_type": "code",
   "execution_count": 8,
   "metadata": {
    "collapsed": false
   },
   "outputs": [
    {
     "name": "stdout",
     "output_type": "stream",
     "text": [
      "Settling velocity: 2.95458856805 m/s\n",
      "Reynolds number of the particle: 359849.968737\n",
      "Dimensionless fall velocity: 1.64212245366\n"
     ]
    }
   ],
   "source": [
    "print 'Settling velocity:', f.settling_velocity, 'm/s'\n",
    "print 'Reynolds number of the particle:', f.Reynolds_number\n",
    "print 'Dimensionless fall velocity:', f.dimensionless_fall_velocity"
   ]
  },
  {
   "cell_type": "markdown",
   "metadata": {},
   "source": [
    "We can save the input and output parameters of the code to files by calling the `finalize` function. By default, the files will the created in a directory called `output`, but you can specify a different directory like this:"
   ]
  },
  {
   "cell_type": "code",
   "execution_count": 6,
   "metadata": {
    "collapsed": false
   },
   "outputs": [],
   "source": [
    "f.finalize('output_directory')"
   ]
  },
  {
   "cell_type": "raw",
   "metadata": {},
   "source": []
  }
 ],
 "metadata": {
  "kernelspec": {
   "display_name": "Python 2",
   "language": "python",
   "name": "python2"
  },
  "language_info": {
   "codemirror_mode": {
    "name": "ipython",
    "version": 2
   },
   "file_extension": ".py",
   "mimetype": "text/x-python",
   "name": "python",
   "nbconvert_exporter": "python",
   "pygments_lexer": "ipython2",
   "version": "2.7.11"
  }
 },
 "nbformat": 4,
 "nbformat_minor": 0
}
