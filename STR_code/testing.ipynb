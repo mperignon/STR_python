{
 "cells": [
  {
   "cell_type": "code",
   "execution_count": 1,
   "metadata": {
    "collapsed": true
   },
   "outputs": [],
   "source": [
    "import matplotlib.pyplot as plt\n",
    "%matplotlib inline\n",
    "import numpy as np"
   ]
  },
  {
   "cell_type": "code",
   "execution_count": 3,
   "metadata": {
    "collapsed": false
   },
   "outputs": [
    {
     "data": {
      "text/plain": [
       "<module 'Backwater' from 'Backwater.pyc'>"
      ]
     },
     "execution_count": 3,
     "metadata": {},
     "output_type": "execute_result"
    }
   ],
   "source": [
    "import FallVelocity as fv\n",
    "reload(fv)\n",
    "import Backwater as bw\n",
    "reload(bw)"
   ]
  },
  {
   "cell_type": "code",
   "execution_count": 4,
   "metadata": {
    "collapsed": false
   },
   "outputs": [],
   "source": [
    "f = fv.FallVelocity()"
   ]
  },
  {
   "cell_type": "code",
   "execution_count": 28,
   "metadata": {
    "collapsed": false
   },
   "outputs": [],
   "source": [
    "f.grain_size = 0.1"
   ]
  },
  {
   "cell_type": "code",
   "execution_count": 5,
   "metadata": {
    "collapsed": true
   },
   "outputs": [],
   "source": [
    "f.run()"
   ]
  },
  {
   "cell_type": "code",
   "execution_count": 6,
   "metadata": {
    "collapsed": false
   },
   "outputs": [],
   "source": [
    "f.finalize()"
   ]
  },
  {
   "cell_type": "code",
   "execution_count": 53,
   "metadata": {
    "collapsed": false
   },
   "outputs": [],
   "source": [
    "import Backwater as bw\n",
    "reload(bw)\n",
    "b = bw.Backwater()"
   ]
  },
  {
   "cell_type": "code",
   "execution_count": 54,
   "metadata": {
    "collapsed": false
   },
   "outputs": [],
   "source": [
    "b.run()"
   ]
  },
  {
   "cell_type": "code",
   "execution_count": 55,
   "metadata": {
    "collapsed": false
   },
   "outputs": [],
   "source": [
    "b.finalize()"
   ]
  },
  {
   "cell_type": "code",
   "execution_count": 18,
   "metadata": {
    "collapsed": false
   },
   "outputs": [
    {
     "data": {
      "text/plain": [
       "<module 'AgDegNormal' from 'AgDegNormal.py'>"
      ]
     },
     "execution_count": 18,
     "metadata": {},
     "output_type": "execute_result"
    }
   ],
   "source": [
    "import AgDegNormal as adN\n",
    "reload(adN)"
   ]
  },
  {
   "cell_type": "code",
   "execution_count": 19,
   "metadata": {
    "collapsed": false
   },
   "outputs": [],
   "source": [
    "a = adN.AgDeg()"
   ]
  },
  {
   "cell_type": "code",
   "execution_count": 123,
   "metadata": {
    "collapsed": false
   },
   "outputs": [
    {
     "data": {
      "text/plain": [
       "<module 'GSD_calculator' from 'GSD_calculator.py'>"
      ]
     },
     "execution_count": 123,
     "metadata": {},
     "output_type": "execute_result"
    }
   ],
   "source": [
    "import GSD_calculator as gsd\n",
    "reload(gsd)"
   ]
  },
  {
   "cell_type": "code",
   "execution_count": 124,
   "metadata": {
    "collapsed": false
   },
   "outputs": [],
   "source": [
    "g = gsd.GSD_calculator()\n",
    "g.run()"
   ]
  },
  {
   "cell_type": "code",
   "execution_count": 125,
   "metadata": {
    "collapsed": false
   },
   "outputs": [
    {
     "data": {
      "text/plain": [
       "array([(0.00976438813668527, 0.0), (0.031, 0.02), (0.062, 0.032),\n",
       "       (0.125, 0.1), (0.25, 0.42), (0.5, 0.8340000000000001), (1.0, 0.97),\n",
       "       (2.0, 0.99), (4.0, 1.0)], \n",
       "      dtype=[('diameters', '<f8'), ('fractions', '<f8')])"
      ]
     },
     "execution_count": 125,
     "metadata": {},
     "output_type": "execute_result"
    }
   ],
   "source": [
    "g._datapts"
   ]
  },
  {
   "cell_type": "code",
   "execution_count": 131,
   "metadata": {
    "collapsed": false
   },
   "outputs": [
    {
     "data": {
      "text/plain": [
       "[0.39951691807960471, 0.28583147875448067, 0.19277635317599259]"
      ]
     },
     "execution_count": 131,
     "metadata": {},
     "output_type": "execute_result"
    }
   ],
   "source": [
    "grain_stats = g.characteristic_size([70,50,30])\n",
    "grain_stats"
   ]
  },
  {
   "cell_type": "code",
   "execution_count": 76,
   "metadata": {
    "collapsed": false
   },
   "outputs": [
    {
     "data": {
      "text/plain": [
       "<module 'RouseVanoni_Equilibrium' from 'RouseVanoni_Equilibrium.pyc'>"
      ]
     },
     "execution_count": 76,
     "metadata": {},
     "output_type": "execute_result"
    }
   ],
   "source": [
    "import RouseVanoni_Equilibrium as rv\n",
    "reload(rv)"
   ]
  },
  {
   "cell_type": "code",
   "execution_count": 77,
   "metadata": {
    "collapsed": false
   },
   "outputs": [],
   "source": [
    "r = rv.RouseVanoni_Equilibrium(b = 0.05,\n",
    "                                    u_star = 0.2,\n",
    "                                    settling_velocity = 0.03,\n",
    "                                    save_output = False)"
   ]
  },
  {
   "cell_type": "code",
   "execution_count": 78,
   "metadata": {
    "collapsed": false
   },
   "outputs": [],
   "source": [
    "r.run()\n",
    "r.finalize()"
   ]
  },
  {
   "cell_type": "code",
   "execution_count": 83,
   "metadata": {
    "collapsed": false
   },
   "outputs": [
    {
     "data": {
      "text/plain": [
       "0.30745820244404265"
      ]
     },
     "execution_count": 83,
     "metadata": {},
     "output_type": "execute_result"
    }
   ],
   "source": [
    "r.RV_profile[10,1]"
   ]
  },
  {
   "cell_type": "code",
   "execution_count": 157,
   "metadata": {
    "collapsed": false
   },
   "outputs": [
    {
     "data": {
      "text/plain": [
       "0.03"
      ]
     },
     "execution_count": 157,
     "metadata": {},
     "output_type": "execute_result"
    }
   ],
   "source": [
    "r.settling_velocity"
   ]
  },
  {
   "cell_type": "code",
   "execution_count": 10,
   "metadata": {
    "collapsed": false
   },
   "outputs": [],
   "source": [
    "import DeltaNorm as dbw\n",
    "reload(dbw)\n",
    "\n",
    "d = dbw.DeltaNorm()\n",
    "\n",
    "d.run()\n",
    "d.finalize()"
   ]
  },
  {
   "cell_type": "code",
   "execution_count": 9,
   "metadata": {
    "collapsed": false
   },
   "outputs": [
    {
     "data": {
      "text/plain": [
       "array([(0.0, 0.0, 0.0, 0.0, 0.0, 0.0, 0.0),\n",
       "       (500.44616243306723, 1129.2666661879098, 1724.1624115046213, 2232.923302222754, 2687.4802757890925, 3103.7499209037032, 3489.7233318730573),\n",
       "       (1000.8923248661345, 2258.5333323758196, 3448.3248230092427, 4465.846604445508, 5374.960551578185, 6207.4998418074065, 6979.446663746115),\n",
       "       (1501.3384872992017, 3387.79999856373, 5172.487234513865, 6698.7699066682635, 8062.440827367279, 9311.24976271111, 10469.169995619173),\n",
       "       (2001.784649732269, 4517.066664751639, 6896.649646018485, 8931.693208891016, 10749.92110315637, 12414.999683614813, 13958.89332749223),\n",
       "       (2502.230812165336, 5646.333330939548, 8620.812057523106, 11164.61651111377, 13437.401378945462, 15518.749604518514, 17448.616659365285),\n",
       "       (3002.6769745984034, 6775.59999712746, 10344.97446902773, 13397.539813336527, 16124.881654734558, 18622.49952542222, 20938.339991238347),\n",
       "       (3503.123137031471, 7904.866663315369, 12069.13688053235, 15630.46311555928, 18812.36193052365, 21726.24944632592, 24428.0633231114),\n",
       "       (4003.569299464538, 9034.133329503278, 13793.29929203697, 17863.386417782032, 21499.84220631274, 24829.999367229626, 27917.78665498446),\n",
       "       (4504.015461897605, 10163.399995691187, 15517.46170354159, 20096.30972000479, 24187.322482101834, 27933.749288133327, 31407.509986857513),\n",
       "       (5004.461624330672, 11292.666661879097, 17241.624115046212, 22329.23302222754, 26874.802757890924, 31037.49920903703, 34897.23331873057),\n",
       "       (5504.90778676374, 12421.933328067007, 18965.786526550834, 24562.156324450298, 29562.283033680018, 34141.249129940734, 38386.95665060363),\n",
       "       (6005.353949196807, 13551.19999425492, 20689.94893805546, 26795.079626673054, 32249.763309469115, 37244.99905084444, 41876.67998247669),\n",
       "       (6505.800111629874, 14680.466660442826, 22414.111349560077, 29028.002928895803, 34937.243585258206, 40348.74897174814, 45366.40331434974),\n",
       "       (7006.246274062942, 15809.733326630738, 24138.2737610647, 31260.92623111856, 37624.7238610473, 43452.49889265184, 48856.1266462228),\n",
       "       (7506.692436496008, 16938.999992818644, 25862.436172569316, 33493.849533341316, 40312.204136836386, 46556.24881355555, 52345.84997809585),\n",
       "       (8007.138598929076, 18068.266659006556, 27586.59858407394, 35726.772835564065, 42999.68441262548, 49659.99873445925, 55835.57330996892),\n",
       "       (8507.584761362143, 19197.53332519447, 29310.760995578563, 37959.69613778682, 45687.164688414574, 52763.74865536296, 59325.296641841975),\n",
       "       (9008.03092379521, 20326.799991382373, 31034.92340708318, 40192.61944000958, 48374.64496420367, 55867.498576266655, 62815.019973715025),\n",
       "       (9508.477086228277, 21456.066657570285, 32759.085818587806, 42425.542742232334, 51062.12523999276, 58971.24849717036, 66304.74330558808),\n",
       "       (10008.923248661344, 22585.333323758194, 34483.248230092424, 44658.46604445508, 53749.60551578185, 62074.99841807406, 69794.46663746114),\n",
       "       (10015.0, 22603.837872768047, 34500.977813788544, 44675.51718521583, 53766.04675073777, 62090.875204146316, 69809.78424552288)], \n",
       "      dtype=[('0.0_years', '<f8'), ('2.5_years', '<f8'), ('5.0_years', '<f8'), ('7.5_years', '<f8'), ('10.0_years', '<f8'), ('12.5_years', '<f8'), ('15.0_years', '<f8')])"
      ]
     },
     "execution_count": 9,
     "metadata": {},
     "output_type": "execute_result"
    }
   ],
   "source": [
    "d.print_x"
   ]
  },
  {
   "cell_type": "code",
   "execution_count": 223,
   "metadata": {
    "collapsed": false
   },
   "outputs": [
    {
     "data": {
      "text/plain": [
       "array([     0.        ,    500.44616243,   1000.89232487,   1501.3384873 ,\n",
       "         2001.78464973,   2502.23081217,   3002.6769746 ,   3503.12313703,\n",
       "         4003.56929946,   4504.0154619 ,   5004.46162433,   5504.90778676,\n",
       "         6005.3539492 ,   6505.80011163,   7006.24627406,   7506.6924365 ,\n",
       "         8007.13859893,   8507.58476136,   9008.0309238 ,   9508.47708623,\n",
       "        10008.92324866,  10015.        ])"
      ]
     },
     "execution_count": 223,
     "metadata": {},
     "output_type": "execute_result"
    }
   ],
   "source": [
    "d.print_x[d.fields[0]]"
   ]
  },
  {
   "cell_type": "code",
   "execution_count": 226,
   "metadata": {
    "collapsed": false
   },
   "outputs": [
    {
     "data": {
      "text/plain": [
       "array([ 0.,  0.,  0.,  0.,  0.,  0.,  0.,  0.,  0.,  0.,  0.,  0.,  0.,\n",
       "        0.,  0.,  0.,  0.,  0.,  0.,  0.,  0.,  0.])"
      ]
     },
     "execution_count": 226,
     "metadata": {},
     "output_type": "execute_result"
    }
   ],
   "source": [
    "d.data[:,0]"
   ]
  },
  {
   "cell_type": "code",
   "execution_count": 291,
   "metadata": {
    "collapsed": false
   },
   "outputs": [],
   "source": [
    "import DensityStratification as ds\n",
    "reload(ds)\n",
    "\n",
    "d = ds.DensityStratification()\n",
    "d.run()"
   ]
  },
  {
   "cell_type": "code",
   "execution_count": 293,
   "metadata": {
    "collapsed": false
   },
   "outputs": [
    {
     "data": {
      "text/plain": [
       "array([ 16.55018302,  22.92434539,  26.14876617,  28.15368077,\n",
       "        29.57928806,  30.67386979,  31.55631845,  32.29208724,\n",
       "        32.9208178 ,  33.46823572,  33.9519315 ,  34.3844358 ,\n",
       "        34.7749739 ,  35.13052418,  35.45648648,  35.7571204 ,\n",
       "        36.03584226,  36.29543173,  36.5381792 ,  36.76599316,\n",
       "        36.98047965,  37.18300236,  37.37472846,  37.55666424,\n",
       "        37.72968294,  37.894547  ,  38.0519257 ,  38.20240955,\n",
       "        38.346522  ,  38.48472895,  38.61744681,  38.74504901,\n",
       "        38.86787159,  38.98621783,  39.10036224,  39.21055386,\n",
       "        39.31701912,  39.41996432,  39.51957766,  39.61603107,\n",
       "        39.7094817 ,  39.80007323,  39.88793693,  39.9731925 ,\n",
       "        40.05594882,  40.13630429,  40.21434711,  40.29015506,\n",
       "        40.36379489,  40.43532092,  40.49431143])"
      ]
     },
     "execution_count": 293,
     "metadata": {},
     "output_type": "execute_result"
    }
   ],
   "source": [
    "d.normalized_velocity_with_stratification"
   ]
  },
  {
   "cell_type": "code",
   "execution_count": 326,
   "metadata": {
    "collapsed": true
   },
   "outputs": [],
   "source": [
    "import SteadyStateAg as ss\n",
    "reload(ss)\n",
    "\n",
    "s = ss.SteadyStateAg()\n",
    "s.run()"
   ]
  },
  {
   "cell_type": "code",
   "execution_count": 325,
   "metadata": {
    "collapsed": false
   },
   "outputs": [],
   "source": [
    "s.finalize()"
   ]
  },
  {
   "cell_type": "code",
   "execution_count": 23,
   "metadata": {
    "collapsed": false
   },
   "outputs": [],
   "source": [
    "import AgDegNormalSub as ad\n",
    "reload(ad)\n",
    "\n",
    "a = ad.AgDegNormalSub(friction = 'Manning',\n",
    "\t\t\t\t\t\t\t Qf = 70,\n",
    "\t\t\t\t\t\t\t If = 0.03,\n",
    "\t\t\t\t\t\t\t L = 10000,\n",
    "\t\t\t\t\t\t\t dx = 100,\n",
    "\t\t\t\t\t\t\t S = 0.008,\n",
    "\t\t\t\t\t\t\t Gtf = 700000,\n",
    "\t\t\t\t\t\t\t D = 30,\n",
    "\t\t\t\t\t\t\t porosity = 0.35,\n",
    "\t\t\t\t\t\t\t kc = 75,\n",
    "\t\t\t\t\t\t\t phi = 1,\n",
    "\t\t\t\t\t\t\t alpha_r = 8.1,\n",
    "\t\t\t\t\t\t\t alpha_t = 8.,\n",
    "\t\t\t\t\t\t\t tau_c = 0.047,\n",
    "\t\t\t\t\t\t\t nt = 1.5,\n",
    "\t\t\t\t\t\t\t Cz = 22,\n",
    "\t\t\t\t\t\t\t alpha_u = 0.5,\n",
    "\t\t\t\t\t\t\t dt = 0.01,\n",
    "\t\t\t\t\t\t\t totalT = 120,\n",
    "\t\t\t\t\t\t\t print_dt = 20,\n",
    "\t\t\t\t\t\t\t g = 9.81,\n",
    "\t\t\t\t\t\t\t rho_w = 1000,\n",
    "\t\t\t\t\t\t\t rho_s = 2650,\n",
    "\t\t\t\t\t\t\t subsidence = 5,\n",
    "\t\t\t\t\t\t\t channel_width = 25,\n",
    "\t\t\t\t\t\t\t depositional_width = 25*60,\n",
    "\t\t\t\t\t\t\t washload_fraction = 1.5,\n",
    "\t\t\t\t\t\t\t sinuosity = 1.5,\n",
    "\t\t\t\t\t\t\t verbose = False,\n",
    "\t\t\t\t\t\t\t save_output = False)\n",
    "a.run()\n",
    "a.finalize()"
   ]
  },
  {
   "cell_type": "code",
   "execution_count": 26,
   "metadata": {
    "collapsed": false
   },
   "outputs": [
    {
     "data": {
      "text/plain": [
       "(102.26911259423767, 0.23724567562372906)"
      ]
     },
     "execution_count": 26,
     "metadata": {},
     "output_type": "execute_result"
    }
   ],
   "source": [
    "var = a.bed_elevation\n",
    "var[0], var[-2]"
   ]
  },
  {
   "cell_type": "code",
   "execution_count": 107,
   "metadata": {
    "collapsed": false
   },
   "outputs": [],
   "source": [
    "import Acronym_D as acr\n",
    "reload(acr)\n",
    "\n",
    "a = acr.Acronym_D()\n",
    "a.run()\n",
    "a.finalize()"
   ]
  },
  {
   "cell_type": "code",
   "execution_count": 66,
   "metadata": {
    "collapsed": false
   },
   "outputs": [
    {
     "data": {
      "text/plain": [
       "array([ (34.0, 0.9959459023328753, 0.20904528549189427, 0.17161731998420054, 0.002408775290475485, [0.0, 52.42400244888638, 100.0])], \n",
       "      dtype=[('Q', '<f8'), ('H', '<f8'), ('ustar', '<f8'), ('Shields', '<f8'), ('q_bedload', '<f8'), ('percent_finer', '<f8', (3,))])"
      ]
     },
     "execution_count": 66,
     "metadata": {},
     "output_type": "execute_result"
    }
   ],
   "source": [
    "a.averages"
   ]
  },
  {
   "cell_type": "code",
   "execution_count": 62,
   "metadata": {
    "collapsed": false
   },
   "outputs": [
    {
     "data": {
      "text/plain": [
       "{'Dg': 15.733415362194647,\n",
       " 'sigma': 0.49941207555762934,\n",
       " 'sigma_g': 1.4136373620647387}"
      ]
     },
     "execution_count": 62,
     "metadata": {},
     "output_type": "execute_result"
    }
   ],
   "source": [
    "a.bedload_statistics"
   ]
  },
  {
   "cell_type": "code",
   "execution_count": 111,
   "metadata": {
    "collapsed": false
   },
   "outputs": [
    {
     "data": {
      "text/plain": [
       "27.661547759243085"
      ]
     },
     "execution_count": 111,
     "metadata": {},
     "output_type": "execute_result"
    }
   ],
   "source": [
    "a.characteristic_size['bedload'][3]"
   ]
  },
  {
   "cell_type": "code",
   "execution_count": 113,
   "metadata": {
    "collapsed": false
   },
   "outputs": [
    {
     "data": {
      "text/plain": [
       "1.4142135623730951"
      ]
     },
     "execution_count": 113,
     "metadata": {},
     "output_type": "execute_result"
    }
   ],
   "source": [
    "a.surface_statistics['sigma_g']"
   ]
  },
  {
   "cell_type": "code",
   "execution_count": 114,
   "metadata": {
    "collapsed": false
   },
   "outputs": [
    {
     "data": {
      "text/plain": [
       "15.733415362194647"
      ]
     },
     "execution_count": 114,
     "metadata": {},
     "output_type": "execute_result"
    }
   ],
   "source": [
    "a.bedload_statistics['Dg']"
   ]
  },
  {
   "cell_type": "code",
   "execution_count": 118,
   "metadata": {
    "collapsed": false
   },
   "outputs": [
    {
     "data": {
      "text/plain": [
       "0.20904528549189427"
      ]
     },
     "execution_count": 118,
     "metadata": {},
     "output_type": "execute_result"
    }
   ],
   "source": [
    "a.averages['ustar'][0]"
   ]
  },
  {
   "cell_type": "code",
   "execution_count": 91,
   "metadata": {
    "collapsed": false
   },
   "outputs": [],
   "source": [
    "mydict = dict(zip(list(a.averages.dtype.names)[:-1], a.averages))"
   ]
  },
  {
   "cell_type": "code",
   "execution_count": 92,
   "metadata": {
    "collapsed": false
   },
   "outputs": [
    {
     "data": {
      "text/plain": [
       "{'Q': (34.0, 0.9959459023328753, 0.20904528549189427, 0.17161731998420054, 0.002408775290475485, [0.0, 52.42400244888638, 100.0])}"
      ]
     },
     "execution_count": 92,
     "metadata": {},
     "output_type": "execute_result"
    }
   ],
   "source": [
    "mydict"
   ]
  },
  {
   "cell_type": "code",
   "execution_count": 93,
   "metadata": {
    "collapsed": false
   },
   "outputs": [],
   "source": [
    "names = a.averages.dtype.names"
   ]
  },
  {
   "cell_type": "code",
   "execution_count": 99,
   "metadata": {
    "collapsed": false
   },
   "outputs": [],
   "source": [
    "flow_dict = [dict(zip(a.averages.dtype.names, record)) for record in a.averages][0]"
   ]
  },
  {
   "cell_type": "code",
   "execution_count": 100,
   "metadata": {
    "collapsed": false
   },
   "outputs": [
    {
     "data": {
      "text/plain": [
       "array([   0.        ,   52.42400245,  100.        ])"
      ]
     },
     "execution_count": 100,
     "metadata": {},
     "output_type": "execute_result"
    }
   ],
   "source": [
    "flow_dict['percent_finer']"
   ]
  },
  {
   "cell_type": "code",
   "execution_count": 104,
   "metadata": {
    "collapsed": false
   },
   "outputs": [],
   "source": [
    "p_finer_dict = [dict(zip(list(a.percent_finer['diameter']), flow_dict['percent_finer']))]"
   ]
  },
  {
   "cell_type": "code",
   "execution_count": 105,
   "metadata": {
    "collapsed": false
   },
   "outputs": [
    {
     "data": {
      "text/plain": [
       "[{8.0: 0.0, 16.0: 52.424002448886377, 32.0: 100.0}]"
      ]
     },
     "execution_count": 105,
     "metadata": {},
     "output_type": "execute_result"
    }
   ],
   "source": [
    "p_finer_dict"
   ]
  },
  {
   "cell_type": "code",
   "execution_count": 109,
   "metadata": {
    "collapsed": false
   },
   "outputs": [
    {
     "data": {
      "text/plain": [
       "52.424002448886377"
      ]
     },
     "execution_count": 109,
     "metadata": {},
     "output_type": "execute_result"
    }
   ],
   "source": [
    "a.percent_finer['bedload'][1]"
   ]
  },
  {
   "cell_type": "code",
   "execution_count": 364,
   "metadata": {
    "collapsed": false
   },
   "outputs": [],
   "source": [
    "import DensityStratification as ds\n",
    "reload(ds)\n",
    "\n",
    "d = ds.DensityStratification()\n",
    "d.run()\n",
    "d.finalize()"
   ]
  },
  {
   "cell_type": "code",
   "execution_count": 369,
   "metadata": {
    "collapsed": false
   },
   "outputs": [
    {
     "data": {
      "text/plain": [
       "0.0009073334043798784"
      ]
     },
     "execution_count": 369,
     "metadata": {},
     "output_type": "execute_result"
    }
   ],
   "source": [
    "d.conc_norm_init[-1]"
   ]
  },
  {
   "cell_type": "code",
   "execution_count": null,
   "metadata": {
    "collapsed": true
   },
   "outputs": [],
   "source": []
  }
 ],
 "metadata": {
  "kernelspec": {
   "display_name": "Python 2",
   "language": "python",
   "name": "python2"
  },
  "language_info": {
   "codemirror_mode": {
    "name": "ipython",
    "version": 2
   },
   "file_extension": ".py",
   "mimetype": "text/x-python",
   "name": "python",
   "nbconvert_exporter": "python",
   "pygments_lexer": "ipython2",
   "version": "2.7.11"
  }
 },
 "nbformat": 4,
 "nbformat_minor": 0
}
