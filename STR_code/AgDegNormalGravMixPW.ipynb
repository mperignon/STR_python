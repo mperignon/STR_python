{
 "cells": [
  {
   "cell_type": "code",
   "execution_count": null,
   "metadata": {
    "collapsed": true
   },
   "outputs": [],
   "source": [
    "from math import sqrt\n",
    "import numpy as np\n",
    "import shared_tools as tools\n",
    "import GSD_calculator as gsd_calc\n",
    "reload(gsd_calc)\n",
    "\n",
    "import matplotlib.pyplot as plt\n",
    "%matplotlib\n",
    "\n",
    "class AgDegNormalGravMixPW(object):\n",
    "    \n",
    "    def __init__(self,\n",
    "                 friction = 'Manning',\n",
    "                 Q_flood = 100,\n",
    "                 Q_gravel = 0.01,\n",
    "                 channel_width = 10,\n",
    "                 intermittency = 0.1,\n",
    "                 base_level_elevation = 0.5,\n",
    "                 reach_length = 20000,\n",
    "                 dx = 666,\n",
    "                 bed_slope = 0.002,\n",
    "                 porosity = 0.4,\n",
    "                 roughness_factor = 2,\n",
    "                 active_layer_factor = 2,\n",
    "                 manning_coeff = 8.1,\n",
    "                 substrate_coeff = 0.5,\n",
    "                 chezy_friction_coeff = 11.099,\n",
    "                 upwind_coeff = 0.5,\n",
    "                 dt = 0.01,\n",
    "                 totalT = 10,\n",
    "                 g = 9.81,\n",
    "                 rho_w = 1000,\n",
    "                 rho_s = 2650,\n",
    "                 grain_diameters = None):\n",
    "    \n",
    "    \n",
    "        # grain size distributions - list of tuples of diameter, list of GSD of feed, surface, substrate\n",
    "        GSD = [(256,[100,100,100]),\n",
    "               (128,[95,95,95]),\n",
    "               (64,[80,80,80]),\n",
    "               (32,[50,50,50]),\n",
    "               (16,[25,25,25]),\n",
    "               (8,[10,10,10]),\n",
    "               (4,[5,5,5]),\n",
    "               (2,[0,0,0]),\n",
    "               (1,[0,0,0]),\n",
    "               (0.5,[0,0,0]),\n",
    "               (0.25,[0,0,0]),\n",
    "               (0.125,[0,0,0])]\n",
    "        \n",
    "        # GSD to structured array\n",
    "        self.GSD = self.GSD_to_array(GSD)\n",
    "        self.plf, self.Fl, self.Fs = self.GSD_fractions(self.GSD)\n",
    "        self.sand_fraction = self.sand_fraction()\n",
    "        \n",
    "        self.friction = friction\n",
    "\n",
    "        self.channel_width = float(channel_width)\n",
    "        self.base_level = float(base_level_elevation)\n",
    "        self.roughness_factor = float(roughness_factor)\n",
    "        self.active_layer_factor = float(active_layer_factor)\n",
    "        self.substrate_coeff = float(substrate_coeff)\n",
    "        \n",
    "\n",
    "        self.qf = float(Q_flood)  / self.channel_width\n",
    "        self.If = float(intermittency)\n",
    "        self.qg = float(Q_gravel) / self.channel_width\n",
    "\n",
    "        self.porosity = float(porosity)\n",
    "        self.S = float(bed_slope)\n",
    "        self.L = float(reach_length)\n",
    "        self.dx = float(dx)\n",
    "        \n",
    "        # Constants\n",
    "        self.g = float(g)\n",
    "        self.sec_to_year = 60 * 60 * 24 * 365.25\n",
    "        self.day_to_sec = 60 * 60 * 24\n",
    "\n",
    "        self.dt = float(dt) * self.day_to_sec # input in days, change to secs\n",
    "        self.totalT = float(totalT)\n",
    "\n",
    "        self.alpha_u = float(upwind_coeff) # upwind coefficient [1=full upwind, 0.5=central difference]\n",
    "        self.alpha_r = float(manning_coeff) # coefficient in Manning resistance relation\n",
    "\n",
    "        # Chezy\n",
    "        self.Cf = float(chezy_friction_coeff)\n",
    "\n",
    "        # Derivatives\n",
    "        self._R = (float(rho_s) - float(rho_w)) / float(rho_w)\n",
    "\n",
    "\n",
    "        # arrays\n",
    "        self.M = int(self.L/self.dx) # number of sub-reaches\n",
    "        \n",
    "        self.x = np.array(range(self.M+1)) * self.dx\n",
    "        self.eta = self.S*self.L - self.S*self.x\n",
    "        self.eta[-1] = 0\n",
    "\n",
    "        self.qb = np.zeros((self.M+1,), dtype = np.float)\n",
    "        self.Sl = np.zeros_like(self.qb)\n",
    "        self.tau = np.zeros_like(self.qb)\n",
    "        self.Ht = np.zeros_like(self.qb)\n",
    "        \n",
    "        \n",
    "        # constants of unknown use\n",
    "        tausc50 = 0.03, tausr50 = 0.04, aload = 11.2, nload = 4.5\n",
    "        rload = tausr50/tausc50\n",
    "        if rload>1:\n",
    "            Cexp = aload * (1 - (1/rload))**nload\n",
    "            nexp = nload / (rload * (1 - (1/rload)))\n",
    "        else:\n",
    "            Cexp = 0\n",
    "            nexp = 0\n",
    "        \n",
    "\n",
    "    def GSD_to_array(self, GSD):\n",
    "        \n",
    "        dtype = [('di', 'f4'), ('plff', 'f4'), ('Ffl', 'f4'), ('Ffs', 'f4')]\n",
    "\n",
    "        GSD_vals = np.zeros((len(GSD)), dtype = dtype)\n",
    "\n",
    "        for j in range(3):\n",
    "\n",
    "            GSD_sub = [(GSD[i][0],GSD[i][1][0]) for i in range(len(GSD))]\n",
    "            datapts = gsd_calc.pre_process_data(GSD_sub)\n",
    "\n",
    "            GSD_vals['di'] = datapts['diameters']\n",
    "            GSD_vals[GSD_vals.dtype.names[j+1]] = datapts['fractions'] * 100\n",
    "            \n",
    "        return GSD_vals\n",
    "    \n",
    "    \n",
    "    def GSD_fractions(self, GSD):\n",
    "\n",
    "        plf = np.diff(GSD['plff'])\n",
    "        Fl = np.diff(GSD['Ffl'])\n",
    "        Fs = np.diff(GSD['Ffs'])\n",
    "        \n",
    "        return plf, Fl, Fs\n",
    "        \n",
    "        "
   ]
  },
  {
   "cell_type": "code",
   "execution_count": 7,
   "metadata": {
    "collapsed": false
   },
   "outputs": [],
   "source": [
    "GSD = [(256,[100,100,100]),\n",
    "                    (128,[95,95,95]),\n",
    "                    (64,[80,80,80]),\n",
    "                    (32,[50,50,50]),\n",
    "                    (16,[25,25,25]),\n",
    "                    (8,[10,10,10]),\n",
    "                    (4,[5,5,5]),\n",
    "                    (2,[0,0,0]),\n",
    "                    (1,[0,0,0]),\n",
    "                    (0.5,[0,0,0]),\n",
    "                    (0.25,[0,0,0]),\n",
    "                    (0.125,[0,0,0])]"
   ]
  },
  {
   "cell_type": "code",
   "execution_count": 9,
   "metadata": {
    "collapsed": false
   },
   "outputs": [
    {
     "data": {
      "text/plain": [
       "<module 'GSD_calculator' from 'GSD_calculator.py'>"
      ]
     },
     "execution_count": 9,
     "metadata": {},
     "output_type": "execute_result"
    }
   ],
   "source": []
  },
  {
   "cell_type": "code",
   "execution_count": 51,
   "metadata": {
    "collapsed": false
   },
   "outputs": [],
   "source": [
    "dtype = [('di', 'f4'), ('plff', 'f4'), ('Ffl', 'f4'), ('Ffs', 'f4')]\n",
    "\n",
    "GSD_vals = np.zeros((len(GSD)), dtype = dtype)\n",
    "\n",
    "for j in range(3):\n",
    "\n",
    "    GSD_sub = [(GSD[i][0],GSD[i][1][0]) for i in range(len(GSD))]\n",
    "    datapts = gsd_calc.pre_process_data(GSD_sub)\n",
    "    \n",
    "    GSD_vals['di'] = datapts['diameters']\n",
    "    GSD_vals[GSD_vals.dtype.names[j+1]] = datapts['fractions'] * 100\n",
    "    \n",
    "plf = np.diff(GSD_vals['plff'])\n",
    "Fl = np.diff(GSD_vals['Ffl'])\n",
    "Fs = np.diff(GSD_vals['Ffs'])"
   ]
  },
  {
   "cell_type": "code",
   "execution_count": 60,
   "metadata": {
    "collapsed": false
   },
   "outputs": [
    {
     "data": {
      "text/plain": [
       "array([  0.,   0.,   0.,   0.,   5.,   5.,  15.,  25.,  30.,  15.,   5.], dtype=float32)"
      ]
     },
     "execution_count": 60,
     "metadata": {},
     "output_type": "execute_result"
    }
   ],
   "source": [
    "np.diff(GSD_vals[GSD_vals.dtype.names[1]])"
   ]
  },
  {
   "cell_type": "code",
   "execution_count": 57,
   "metadata": {
    "collapsed": false
   },
   "outputs": [
    {
     "data": {
      "text/plain": [
       "array([   0.,    0.,    0.,    0.,    0.,    5.,   10.,   25.,   50.,\n",
       "         80.,   95.,  100.], dtype=float32)"
      ]
     },
     "execution_count": 57,
     "metadata": {},
     "output_type": "execute_result"
    }
   ],
   "source": [
    "GSD_vals['plff']"
   ]
  },
  {
   "cell_type": "code",
   "execution_count": null,
   "metadata": {
    "collapsed": true
   },
   "outputs": [],
   "source": []
  }
 ],
 "metadata": {
  "kernelspec": {
   "display_name": "Python 2",
   "language": "python",
   "name": "python2"
  },
  "language_info": {
   "codemirror_mode": {
    "name": "ipython",
    "version": 2
   },
   "file_extension": ".py",
   "mimetype": "text/x-python",
   "name": "python",
   "nbconvert_exporter": "python",
   "pygments_lexer": "ipython2",
   "version": "2.7.10"
  }
 },
 "nbformat": 4,
 "nbformat_minor": 0
}
