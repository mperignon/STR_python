{
 "cells": [
  {
   "cell_type": "code",
   "execution_count": 39,
   "metadata": {
    "collapsed": false
   },
   "outputs": [],
   "source": [
    "import numpy as np\n",
    "from math import pow, sqrt\n",
    "\n",
    "yr_to_sec = 31557600.0\n",
    "\n",
    "flood_discharge = 750.\n",
    "reach_length = 30000.\n",
    "transition__init = 150000. # sgsl\n",
    "base_level__init = 5.\n",
    "base_level__rate = 6 / yr_to_sec / 1000. # mm/yr # ksidot\n",
    "subsidence__rate = 0. / yr_to_sec / 1000. # mm/yr\n",
    "sea_level_rise__start_year = 0 / yr_to_sec\n",
    "sea_level_rise__end_year = 12000 / yr_to_sec\n",
    "dt = 0.2 * yr_to_sec\n",
    "total_time = 600. * yr_to_sec\n",
    "print_dt = 100. * yr_to_sec\n",
    "\n",
    "reach_length__sand = reach_length - transition__init\n",
    "\n",
    "g = 9.81\n",
    "\n",
    "rho_w = 1000.\n",
    "rho_s = 2650.\n",
    "\n",
    "R = (float(rho_s) - float(rho_w)) / float(rho_w)\n",
    "\n",
    "##################################################\n",
    "\n",
    "sed_discharge__sand = 0.15\n",
    "flood_intermittency__sand = 0.05\n",
    "grain_size__sand = 0.25 / 1000.\n",
    "Chezy_coeff__sand = 25.\n",
    "channel_width__sand = 90.\n",
    "slope__sand = 0.00015\n",
    "floodplain_width__sand = 4000.\n",
    "sinuosity__sand = 2.\n",
    "fraction_deposited__sand = 1.\n",
    "porosity__sand = 0.4\n",
    "num_nodes__sand = 30.\n",
    "\n",
    "dxbar_sand = 1. / num_nodes__sand\n",
    "Cf_sand = 1. / pow(Chezy_coeff__sand, 2)\n",
    "qw_sand = flood_discharge / channel_width__sand\n",
    "qf_sand = sed_discharge__sand / channel_width__sand\n",
    "channel_fraction__sand = floodplain_width__sand / channel_width__sand # rBg\n",
    "If_eff__sand = (flood_intermittency__sand * (1. + fraction_deposited__sand) *\n",
    "                sinuosity__sand / channel_fraction__sand)\n",
    "\n",
    "\n",
    "##################################################\n",
    "\n",
    "sed_discharge__gravel = 0.075\n",
    "flood_intermittency__gravel = 0.05\n",
    "grain_size__gravel = 30. / 1000.\n",
    "Chezy_coeff__gravel = 15.\n",
    "channel_width__gravel = 90.\n",
    "slope__gravel = 0.0015\n",
    "floodplain_width__gravel = 4000.\n",
    "sinuosity__gravel = 1.5\n",
    "fraction_deposited__gravel = 0.5\n",
    "porosity__gravel = 0.4\n",
    "num_nodes__gravel = 30.\n",
    "\n",
    "dxbar_gravel = 1. / num_nodes__gravel\n",
    "Cf_gravel = 1. / pow(Chezy_coeff__gravel, 2)\n",
    "qw_gravel = flood_discharge / channel_width__gravel\n",
    "qf_gravel= sed_discharge__gravel / channel_width__gravel\n",
    "channel_fraction__gravel = floodplain_width__gravel / channel_width__gravel # rBs\n",
    "If_eff__gravel = (flood_intermittency__gravel * (1. + fraction_deposited__gravel) *\n",
    "                sinuosity__gravel / channel_fraction__gravel)\n",
    "\n",
    "##################################################\n",
    "# CHECKS\n",
    "##################################################\n",
    "\n",
    "if base_level__rate > subsidence__rate:    \n",
    "    Lmax = ((1. / base_level__rate) *\n",
    "           ((If_eff__gravel * qf_gravel / (1 - porosity__gravel)) +\n",
    "            If_eff__sand * (qf_sand - (fraction_deposited__gravel * qf_gravel)) / (1 - porosity__sand)))  \n",
    "else:    \n",
    "    Lmax = ((1. / subsidence__rate) *\n",
    "           ((If_eff__gravel * qf_gravel / (1 - porosity__gravel)) +\n",
    "            If_eff__sand * (qf_sand - (fraction_deposited__gravel * qf_gravel)) / (1 - porosity__sand)))\n",
    "                                       \n",
    "assert reach_length < Lmax, 'Reach length musch be smaller than Lmax value!'\n",
    "\n",
    "###\n",
    "\n",
    "qf_star__sand = qf_sand / (sqrt(R * g * grain_size__sand) * grain_size__sand)\n",
    "\n",
    "tau__sand = pow(Cf_sand * qf_star__sand / 0.05, 0.4)\n",
    "\n",
    "Ss = (pow(R * grain_size__sand * tau__sand, 1.5) / \n",
    "      (sqrt(Cf_sand * pow(qw_sand, 2) * g)))\n",
    "Hs = pow(Cf_sand * pow(qw_sand, 2) / (g * Ss) , 1./3)\n",
    "Froude_sand = sqrt(pow(qw_sand, 2) / (g * pow(Hs, 3)))\n",
    "\n",
    "assert Froude_sand < 1, 'Froude number for sand must be less than 1'\n",
    "\n",
    "###\n",
    "\n",
    "tau__gravel = 0.035\n",
    "qf_star__gravel = qf_gravel / (sqrt(R * g * grain_size__gravel) * grain_size__gravel)\n",
    "\n",
    "f = 1.\n",
    "while abs(f) > 1e-10:\n",
    "    \n",
    "    f = (11.2 * pow(tau__gravel, 1.5) *\n",
    "         pow(1. - (0.03 / tau__gravel), 4.5) - qf_star__gravel)\n",
    "    \n",
    "    fprime = (1.5 * 11.2  * sqrt(tau__gravel) *\n",
    "              pow(1. - (0.03 / tau__gravel), 4.5) +\n",
    "              11.2 * 4.5 * pow(1. - (0.03 / tau__gravel), 3.5) *\n",
    "              0.03 / sqrt(tau__gravel))\n",
    "    \n",
    "    tau__gravel += - f / fprime\n",
    "    \n",
    "Sg = (pow(R * grain_size__gravel * tau__gravel, 1.5) / \n",
    "      (sqrt(Cf_gravel * pow(qw_gravel, 2) * g)))\n",
    "Hg = pow(Cf_gravel * pow(qw_gravel, 2) / (g * Sg) , 1./3)\n",
    "\n",
    "Froude_gravel = sqrt(pow(qw_gravel, 2) / (g * pow(Hg, 3)))\n",
    "\n",
    "assert Froude_gravel < 1, 'Froude number for gravel must be less than 1'\n",
    "\n",
    "###\n",
    "\n",
    "base_level__min = pow(pow(qf_sand,2) / g, 1./3)\n",
    "\n",
    "assert base_level__init > base_level__min, 'Downstream water surface must be higher than the minimum'\n",
    "\n",
    "\n"
   ]
  },
  {
   "cell_type": "code",
   "execution_count": 38,
   "metadata": {
    "collapsed": false
   },
   "outputs": [
    {
     "data": {
      "text/plain": [
       "5.0"
      ]
     },
     "execution_count": 38,
     "metadata": {},
     "output_type": "execute_result"
    }
   ],
   "source": [
    "base_level__init"
   ]
  },
  {
   "cell_type": "code",
   "execution_count": 23,
   "metadata": {
    "collapsed": false
   },
   "outputs": [
    {
     "data": {
      "text/plain": [
       "3.5156250000000008e-06"
      ]
     },
     "execution_count": 23,
     "metadata": {},
     "output_type": "execute_result"
    }
   ],
   "source": [
    "((If_eff__gravel * qf_gravel / (1 - porosity__gravel)))"
   ]
  },
  {
   "cell_type": "code",
   "execution_count": 25,
   "metadata": {
    "collapsed": false
   },
   "outputs": [
    {
     "data": {
      "text/plain": [
       "9.375e-06"
      ]
     },
     "execution_count": 25,
     "metadata": {},
     "output_type": "execute_result"
    }
   ],
   "source": [
    "If_eff__sand * (qf_sand - (fraction_deposited__gravel * qf_gravel)) / (1 - porosity__sand)"
   ]
  },
  {
   "cell_type": "code",
   "execution_count": 26,
   "metadata": {
    "collapsed": false
   },
   "outputs": [
    {
     "data": {
      "text/plain": [
       "5.281347969004825e-06"
      ]
     },
     "execution_count": 26,
     "metadata": {},
     "output_type": "execute_result"
    }
   ],
   "source": [
    "(1. / base_level__rate)"
   ]
  },
  {
   "cell_type": "code",
   "execution_count": null,
   "metadata": {
    "collapsed": true
   },
   "outputs": [],
   "source": []
  }
 ],
 "metadata": {
  "kernelspec": {
   "display_name": "Python 2",
   "language": "python",
   "name": "python2"
  },
  "language_info": {
   "codemirror_mode": {
    "name": "ipython",
    "version": 2
   },
   "file_extension": ".py",
   "mimetype": "text/x-python",
   "name": "python",
   "nbconvert_exporter": "python",
   "pygments_lexer": "ipython2",
   "version": "2.7.10"
  }
 },
 "nbformat": 4,
 "nbformat_minor": 0
}
