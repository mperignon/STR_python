{
 "cells": [
  {
   "cell_type": "code",
   "execution_count": 29,
   "metadata": {
    "collapsed": false
   },
   "outputs": [],
   "source": [
    "import numpy as np\n",
    "from math import sqrt\n",
    "\n",
    "class Backwater(object):\n",
    "    \n",
    "    def __init__(self,\n",
    "                 friction = \"Chezy\",\n",
    "                 qw = 5.7,\n",
    "                 initdepth = 10,\n",
    "                 S = 0.0008,\n",
    "                 total_x = 10000,\n",
    "                 dx = 100,\n",
    "                 alpha = 8.1,\n",
    "                 n = 2,\n",
    "                 D90 = .91,\n",
    "                 D50 = .27,\n",
    "                 Cz = 22,\n",
    "                 output_file = \"out_Backwater\",\n",
    "                 rho_w = 1000,\n",
    "                 rho_s = 2650,\n",
    "                 g = 9.81):\n",
    "        \n",
    "\n",
    "        self.friction_ = friction\n",
    "        self.output_file_ = output_file\n",
    "\n",
    "        self.qw_ = float(qw)\n",
    "        self.initdepth_ = float(initdepth)\n",
    "        self.S_ = float(S)\n",
    "\n",
    "        self.alpha_ = float(alpha)\n",
    "        self.n_ = float(n)\n",
    "        self.D50_ = float(D50) / 1000 # M in old files\n",
    "        self.D90_ = float(D90) / 1000\n",
    "\n",
    "        self.Cz_ = float(Cz) \n",
    "\n",
    "        self.g_ = float(g)\n",
    "        self.rho_s_ = float(rho_s)\n",
    "        self.rho_w_ = float(rho_w)\n",
    "\n",
    "        self.total_x_ = int(total_x)\n",
    "        self.dx_ = int(dx)\n",
    "\n",
    "\n",
    "        ##### DERIVATIVES ######\n",
    "\n",
    "        self.R = (self.rho_s_ - self.rho_w_) / self.rho_w_\n",
    "\n",
    "        self.nodes = (self.total_x_ / self.dx_) + 1\n",
    "\n",
    "        self.U = np.zeros((self.nodes,), dtype = np.float)\n",
    "        self.taub = np.zeros_like(self.U)\n",
    "        self.eta = np.zeros_like(self.U)\n",
    "        self.ksi = np.zeros_like(self.U)\n",
    "        self.H = np.zeros_like(self.U)\n",
    "        self.x = np.zeros_like(self.U)\n",
    "\n",
    "\n",
    "    ################################################\n",
    "    ################# Functions ####################\n",
    "    ################################################ \n",
    "\n",
    "    ################# Chezy ##################\n",
    "\n",
    "    def Chezy_formulation(self):\n",
    "\n",
    "        assert all([self.Cz_]), \\\n",
    "            \"One or more variables required for the Chezy formulation are missing\"\n",
    "\n",
    "        self.Hf = ( self.qw_**2 / ( self.Cz_**2 * self.g_ * self.S_ ) )**(1./3)\n",
    "        \n",
    "        self.Uf = self.qw_ / self.Hf\n",
    "        \n",
    "        self.Fr = self.Uf  / sqrt( self.g_ * self.Hf )\n",
    "        \n",
    "        self.taubf = 1000 * ( self.Uf**2 / self.Cz_**2 )\n",
    "\n",
    "        \n",
    "        \n",
    "    def Chezy_Cf(self, Hm_):\n",
    "\n",
    "        return 1 / self.Cz_**2\n",
    "\n",
    "\n",
    "    ########### Manning-Strickler ############\n",
    "\n",
    "    def Manning_formulation(self):\n",
    "\n",
    "        assert all([self.n_, self.D90_, self.D50_, self.alpha_]), \\\n",
    "            \"One or more variables required for the Manning formulation are missing\"\n",
    "\n",
    "        ks = self.n_ * self.D90_\n",
    "        \n",
    "        self.Hf = (( ks**(1./3) * self.qw_**2 ) / \\\n",
    "                   ( self.alpha_**2 * self.g_ * self.S_ ))**(1./3)\n",
    "        \n",
    "        self.Uf = self.qw_ / self.Hf\n",
    "        \n",
    "        self.Fr = self.Uf  / sqrt( self.g_ * self.Hf )\n",
    "        \n",
    "        self.taubf = (( ks**(1./3) * self.qw_**2 ) / \\\n",
    "                      ( self.alpha_**2 * self.g_ ))**(1./3) * self.S_**0.7 / \\\n",
    "                      ( self.R * D50_ )\n",
    "\n",
    "            \n",
    "            \n",
    "    def Manning_Cf(self, Hm_):\n",
    "\n",
    "        return (( self.n_ * self.D90_ ) / Hm_ )**(1./3) / self.alpha_**2\n",
    "\n",
    "\n",
    "    ########### Shared functions #############\n",
    "\n",
    "    def get_critical_values(self):\n",
    "\n",
    "        self.Hcrit = (self.qw_**2 / self.g_) ** (1./3)\n",
    "        self.Ucrit = self.qw_ / self.initdepth_\n",
    "    \n",
    "    \n",
    "    def calculate_FnH(self, Cf_, H_):\n",
    "\n",
    "        FnH_ = ( self.S_ - ( Cf_ * self.qw_**2 / ( self.g_ * H_**3 ))) / \\\n",
    "                ( 1 - ( self.qw_**2 / ( self.g_ * H_**3 )))\n",
    "\n",
    "        return FnH_\n",
    "    \n",
    "    \n",
    "    def update_vals_Fn(self, Cf_fun, i):\n",
    "\n",
    "        Cf = Cf_fun(self.H[i])\n",
    "        FnH = self.calculate_FnH(Cf, self.H[i])\n",
    "\n",
    "        Hp = self.H[i] - FnH * self.dx_\n",
    "\n",
    "        Cf = Cf_fun(Hp)\n",
    "        FnHp = self.calculate_FnH(Cf, Hp)\n",
    "\n",
    "        return FnH, FnHp, Cf\n",
    "\n",
    "    \n",
    "    def update_vals(self, i, Cf_):\n",
    "\n",
    "        self.U[i] = self.qw_ / self.H[i]\n",
    "        self.taub[i] = 1000 * Cf_ * self.U[i]**2\n",
    "        self.ksi[i] = self.H[i] + self.eta[i]\n",
    "\n",
    "\n",
    "    def update_surface(self, i, FnH, FnHp):\n",
    "\n",
    "#         self.x[i] = self.x[i-1] - self.dx_\n",
    "        self.H[i] = self.H[i-1] - (0.5 * (FnH + FnHp) * self.dx_)\n",
    "#         self.eta[i] = self.eta[i-1] + (self.S_ * self.dx_)\n",
    "\n",
    "\n",
    "    def Backwater_Calculator(self, Cf_fun):\n",
    "\n",
    "#         self.x[0] = self.total_x_\n",
    "        self.H[0] = self.initdepth_\n",
    "#         self.eta[0] = 0\n",
    "        FnH, FnHp, Cf = self.update_vals_Fn(Cf_fun, 0)\n",
    "        self.update_vals(0, Cf)\n",
    "\n",
    "        for i in range(1, self.nodes):\n",
    "\n",
    "            self.update_surface(i, FnH, FnHp)\n",
    "            FnH, FnHp, Cf = self.update_vals_Fn(Cf_fun, i)\n",
    "            self.update_vals(i, Cf)\n",
    "\n",
    "    def set_surface(self):\n",
    "        \n",
    "        self.x[0] = self.total_x_\n",
    "        self.eta[0] = 0\n",
    "        \n",
    "        for i in range(1,self.nodes):\n",
    "            self.x[i] = self.x[i-1] - self.dx_\n",
    "            self.eta[i] = self.eta[i-1] + (self.S_ * self.dx_)\n",
    "            \n",
    "            \n",
    "    ##########################################\n",
    "    ################# Run ####################\n",
    "    ##########################################   \n",
    "    def run(self): \n",
    "\n",
    "        self.get_critical_values()\n",
    "        \n",
    "        self.set_surface()\n",
    "\n",
    "        if self.friction_ == \"Manning\":\n",
    "            self.Manning_formulation()\n",
    "            self.Backwater_Calculator(self.Manning_Cf)\n",
    "\n",
    "\n",
    "        if self.friction_ == \"Chezy\":\n",
    "            self.Chezy_formulation()\n",
    "            self.Backwater_Calculator(self.Chezy_Cf)\n",
    "            \n",
    "     \n",
    "    \n",
    "    ##########################################\n",
    "    ############## Finalize ##################\n",
    "    ##########################################   \n",
    "    def finalize(self):\n",
    "        \n",
    "        header1_ = [('Friction formulation', self.friction_),\n",
    "           ('Depth', str(self.Hf)),\n",
    "           ('Flow velocity', str(self.Uf)),\n",
    "           ('Froude number', str(self.Fr)),\n",
    "           ('Shear stress', str(self.taubf))]\n",
    "        \n",
    "        header1 = '\\n'.join([','.join(i) for i in header1_])\n",
    "        \n",
    "        fields = ['Position', 'Depth', 'FlowVelocity',\n",
    "                  'ShearStress', 'BedElevation', 'WaterSurfaceElev']\n",
    "        \n",
    "        header2 = ', '.join(fields)\n",
    "        \n",
    "        header = header1 + \"\\n\\n\" + header2\n",
    "        \n",
    "        dtype = [(i, float) for i in fields]\n",
    "        self.data = np.empty(len(self.x), dtype = dtype)\n",
    "        \n",
    "        self.data['Position'] = self.x\n",
    "        self.data['Depth'] = self.H\n",
    "        self.data['FlowVelocity'] = self.U\n",
    "        self.data['ShearStress'] = self.taub\n",
    "        self.data['BedElevation'] = self.eta\n",
    "        self.data['WaterSurfaceElev'] = self.ksi\n",
    "        \n",
    "        np.savetxt(self.output_file_ + '.csv', self.data,\n",
    "                   header = header,\n",
    "                   delimiter = \",\",\n",
    "                   fmt = '%10.5f',\n",
    "                   comments = '')"
   ]
  },
  {
   "cell_type": "code",
   "execution_count": 30,
   "metadata": {
    "collapsed": false
   },
   "outputs": [],
   "source": [
    "f= Backwater()"
   ]
  },
  {
   "cell_type": "code",
   "execution_count": 31,
   "metadata": {
    "collapsed": false
   },
   "outputs": [],
   "source": [
    "f.run()"
   ]
  },
  {
   "cell_type": "code",
   "execution_count": 32,
   "metadata": {
    "collapsed": false
   },
   "outputs": [],
   "source": [
    "f.finalize()"
   ]
  },
  {
   "cell_type": "code",
   "execution_count": 33,
   "metadata": {
    "collapsed": false
   },
   "outputs": [],
   "source": [
    "import matplotlib.pyplot as plt\n",
    "%matplotlib inline"
   ]
  },
  {
   "cell_type": "code",
   "execution_count": 34,
   "metadata": {
    "collapsed": false
   },
   "outputs": [
    {
     "data": {
      "text/plain": [
       "[<matplotlib.lines.Line2D at 0x10697aed0>,\n",
       " <matplotlib.lines.Line2D at 0x1069a2190>]"
      ]
     },
     "execution_count": 34,
     "metadata": {},
     "output_type": "execute_result"
    },
    {
     "data": {
      "image/png": "[encoded data removed]",
      "text/plain": [
       "<matplotlib.figure.Figure at 0x105d35590>"
      ]
     },
     "metadata": {},
     "output_type": "display_data"
    }
   ],
   "source": [
    "plt.plot(f.x, f.ksi, f.x, f.eta)"
   ]
  },
  {
   "cell_type": "code",
   "execution_count": 36,
   "metadata": {
    "collapsed": false
   },
   "outputs": [
    {
     "data": {
      "text/plain": [
       "array([ 10.        ,   9.92042584,   9.84086209,   9.76130909,\n",
       "         9.68176719,   9.60223677,   9.5227182 ,   9.4432119 ,\n",
       "         9.36371827,   9.28423776,   9.20477082,   9.12531793,\n",
       "         9.04587958,   8.96645629,   8.88704861,   8.80765709,\n",
       "         8.72828234,   8.64892496,   8.56958562,   8.49026498,\n",
       "         8.41096375,   8.33168269,   8.25242257,   8.1731842 ,\n",
       "         8.09396845,   8.01477622,   7.93560844,   7.85646612,\n",
       "         7.7773503 ,   7.69826208,   7.6192026 ,   7.54017308,\n",
       "         7.46117481,   7.38220913,   7.30327746,   7.22438131,\n",
       "         7.14552224,   7.06670193,   6.98792215,   6.90918475,\n",
       "         6.83049172,   6.75184513,   6.67324719,   6.59470025,\n",
       "         6.51620679,   6.43776945,   6.35939101,   6.28107444,\n",
       "         6.20282291,   6.12463977,   6.0465286 ,   5.9684932 ,\n",
       "         5.89053763,   5.81266623,   5.73488362,   5.65719473,\n",
       "         5.57960486,   5.50211964,   5.42474515,   5.34748786,\n",
       "         5.27035474,   5.19335326,   5.11649146,   5.03977798,\n",
       "         4.9632221 ,   4.88683386,   4.81062405,   4.73460434,\n",
       "         4.65878733,   4.58318663,   4.50781698,   4.43269437,\n",
       "         4.35783609,   4.28326093,   4.2089893 ,   4.13504338,\n",
       "         4.06144728,   3.98822729,   3.915412  ,   3.84303262,\n",
       "         3.77112317,   3.69972079,   3.62886602,   3.55860312,\n",
       "         3.48898045,   3.42005078,   3.35187175,   3.2845062 ,\n",
       "         3.21802262,   3.15249554,   3.0880059 ,   3.0246414 ,\n",
       "         2.96249673,   2.90167373,   2.84228137,   2.78443548,\n",
       "         2.72825821,   2.67387711,   2.62142368,   2.57103146,   2.52283337])"
      ]
     },
     "execution_count": 36,
     "metadata": {},
     "output_type": "execute_result"
    }
   ],
   "source": [
    "f.H"
   ]
  },
  {
   "cell_type": "code",
   "execution_count": 23,
   "metadata": {
    "collapsed": false
   },
   "outputs": [
    {
     "data": {
      "text/plain": [
       "array([ 123000.,  122000.,  121000.,  120000.,  119000.,  118000.,\n",
       "        117000.,  116000.,  115000.,  114000.,  113000.,  112000.,\n",
       "        111000.,  110000.,  109000.,  108000.,  107000.,  106000.,\n",
       "        105000.,  104000.,  103000.,  102000.,  101000.,  100000.,\n",
       "         99000.,   98000.,   97000.,   96000.,   95000.,   94000.,\n",
       "         93000.,   92000.,   91000.,   90000.,   89000.,   88000.,\n",
       "         87000.,   86000.,   85000.,   84000.,   83000.,   82000.,\n",
       "         81000.,   80000.,   79000.,   78000.,   77000.,   76000.,\n",
       "         75000.,   74000.,   73000.,   72000.,   71000.,   70000.,\n",
       "         69000.,   68000.,   67000.,   66000.,   65000.,   64000.,\n",
       "         63000.,   62000.,   61000.,   60000.,   59000.,   58000.,\n",
       "         57000.,   56000.,   55000.,   54000.,   53000.,   52000.,\n",
       "         51000.,   50000.,   49000.,   48000.,   47000.,   46000.,\n",
       "         45000.,   44000.,   43000.,   42000.,   41000.,   40000.,\n",
       "         39000.,   38000.,   37000.,   36000.,   35000.,   34000.,\n",
       "         33000.,   32000.,   31000.,   30000.,   29000.,   28000.,\n",
       "         27000.,   26000.,   25000.,   24000.,   23000.,   22000.,\n",
       "         21000.,   20000.,   19000.,   18000.,   17000.,   16000.,\n",
       "         15000.,   14000.,   13000.,   12000.,   11000.,   10000.,\n",
       "          9000.,    8000.,    7000.,    6000.,    5000.,    4000.,\n",
       "          3000.,    2000.,    1000.,       0.])"
      ]
     },
     "execution_count": 23,
     "metadata": {},
     "output_type": "execute_result"
    }
   ],
   "source": [
    "f.x"
   ]
  },
  {
   "cell_type": "code",
   "execution_count": null,
   "metadata": {
    "collapsed": true
   },
   "outputs": [],
   "source": []
  }
 ],
 "metadata": {
  "kernelspec": {
   "display_name": "Python 2",
   "language": "python",
   "name": "python2"
  },
  "language_info": {
   "codemirror_mode": {
    "name": "ipython",
    "version": 2
   },
   "file_extension": ".py",
   "mimetype": "text/x-python",
   "name": "python",
   "nbconvert_exporter": "python",
   "pygments_lexer": "ipython2",
   "version": "2.7.10"
  }
 },
 "nbformat": 4,
 "nbformat_minor": 0
}
