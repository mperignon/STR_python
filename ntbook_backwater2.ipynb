{
 "cells": [
  {
   "cell_type": "code",
   "execution_count": 83,
   "metadata": {
    "collapsed": false
   },
   "outputs": [],
   "source": [
    "import numpy as np\n",
    "from math import sqrt\n",
    "\n",
    "class Backwater(object):\n",
    "    \n",
    "    def __init__(self,\n",
    "                 friction = \"Chezy\",\n",
    "                 qw = 5.7,\n",
    "                 initdepth = 30,\n",
    "                 S = 0.00025,\n",
    "                 total_x = 123000,\n",
    "                 dx = 1000,\n",
    "                 alpha = 8.1,\n",
    "                 n = 2,\n",
    "                 D90 = .91,\n",
    "                 D50 = .27,\n",
    "                 Cz = 22,\n",
    "                 output_file = \"out_Backwater\",\n",
    "                 rho_w = 1000,\n",
    "                 rho_s = 2650,\n",
    "                 g = 9.81):\n",
    "        \n",
    "\n",
    "        self.friction_ = friction\n",
    "        self.output_file_ = output_file\n",
    "\n",
    "        self.qw_ = float(qw)\n",
    "        self.initdepth_ = float(initdepth)\n",
    "        self.S_ = float(S)\n",
    "\n",
    "        self.alpha_ = float(alpha)\n",
    "        self.n_ = float(n)\n",
    "        self.D50_ = float(D50) / 1000 # M in old files\n",
    "        self.D90_ = float(D90) / 1000\n",
    "\n",
    "        self.Cz_ = float(Cz) \n",
    "\n",
    "        self.g_ = float(g)\n",
    "        self.rho_s_ = float(rho_s)\n",
    "        self.rho_w_ = float(rho_w)\n",
    "\n",
    "        self.total_x_ = int(total_x)\n",
    "        self.dx_ = int(dx)\n",
    "\n",
    "\n",
    "        ##### DERIVATIVES ######\n",
    "\n",
    "        self.R = (self.rho_s_ - self.rho_w_) / self.rho_w_\n",
    "\n",
    "        self.nodes = (self.total_x_ / self.dx_) + 1\n",
    "\n",
    "        self.U = np.zeros((self.nodes,), dtype = np.float)\n",
    "        self.taub = np.zeros_like(self.U)\n",
    "        self.eta = np.zeros_like(self.U)\n",
    "        self.ksi = np.zeros_like(self.U)\n",
    "        self.H = np.zeros_like(self.U)\n",
    "        self.x = np.zeros_like(self.U)\n",
    "\n",
    "\n",
    "    ################################################\n",
    "    ################# Functions ####################\n",
    "    ################################################ \n",
    "\n",
    "    ################# Chezy ##################\n",
    "\n",
    "    def Chezy_formulation(self):\n",
    "\n",
    "        assert all([self.Cz_]), \\\n",
    "            \"One or more variables required for the Chezy formulation are missing\"\n",
    "\n",
    "        self.Hf = ( self.qw_**2 / ( self.Cz_**2 * self.g_ * self.S_ ) )**(1./3)\n",
    "        \n",
    "        self.Uf = self.qw_ / self.Hf\n",
    "        \n",
    "        self.Fr = self.Uf  / sqrt( self.g_ * self.Hf )\n",
    "        \n",
    "        self.taubf = 1000 * ( self.Uf**2 / self.Cz_**2 )\n",
    "\n",
    "        \n",
    "        \n",
    "    def Chezy_Cf(self, Hm_):\n",
    "\n",
    "        return 1 / self.Cz_**2\n",
    "\n",
    "\n",
    "    ########### Manning-Strickler ############\n",
    "\n",
    "    def Manning_formulation(self):\n",
    "\n",
    "        assert all([self.n_, self.D90_, self.D50_, self.alpha_]), \\\n",
    "            \"One or more variables required for the Manning formulation are missing\"\n",
    "\n",
    "        ks = self.n_ * self.D90_\n",
    "        \n",
    "        self.Hf = (( ks**(1./3) * self.qw_**2 ) / \\\n",
    "                   ( self.alpha_**2 * self.g_ * self.S_ ))**(1./3)\n",
    "        \n",
    "        self.Uf = self.qw_ / self.Hf\n",
    "        \n",
    "        self.Fr = self.Uf  / sqrt( self.g_ * self.Hf )\n",
    "        \n",
    "        self.taubf = (( ks**(1./3) * self.qw_**2 ) / \\\n",
    "                      ( self.alpha_**2 * self.g_ ))**(1./3) * self.S_**0.7 / \\\n",
    "                      ( self.R * D50_ )\n",
    "\n",
    "            \n",
    "            \n",
    "    def Manning_Cf(self, Hm_):\n",
    "\n",
    "        return (( self.n_ * self.D90_ ) / Hm_ )**(1./3) / self.alpha_**2\n",
    "\n",
    "\n",
    "    ########### Shared functions #############\n",
    "\n",
    "    def get_critical_values(self):\n",
    "\n",
    "        self.Hcrit = (self.qw_**2 / self.g_) ** (1./3)\n",
    "        self.Ucrit = self.qw_ / self.initdepth_\n",
    "    \n",
    "    \n",
    "    def calculate_FnH(self, Cf_, H_):\n",
    "\n",
    "        FnH_ = ( self.S_ - ( Cf_ * self.qw_**2 / ( self.g_ * H_**3 ))) / \\\n",
    "                ( 1 - ( self.qw_**2 / ( self.g_ * H_**3 )))\n",
    "\n",
    "        return FnH_\n",
    "    \n",
    "    \n",
    "    def update_vals_Fn(self, Cf_fun, i):\n",
    "\n",
    "        Cf = Cf_fun(self.H[i])\n",
    "        FnH = self.calculate_FnH(Cf, self.H[i])\n",
    "\n",
    "        Hp = self.H[i] - FnH * self.dx_\n",
    "\n",
    "        Cf = Cf_fun(Hp)\n",
    "        FnHp = self.calculate_FnH(Cf, Hp)\n",
    "\n",
    "        return FnH, FnHp, Cf\n",
    "\n",
    "    \n",
    "    def update_vals(self, i, Cf_):\n",
    "\n",
    "        self.U[i] = self.qw_ / self.H[i]\n",
    "        self.taub[i] = 1000 * Cf_ * self.U[i]**2\n",
    "        self.ksi[i] = self.H[i] + self.eta[i]\n",
    "\n",
    "\n",
    "    def update_surface(self, i, FnH, FnHp):\n",
    "\n",
    "        self.x[i] = self.x[i-1] - self.dx_\n",
    "        self.H[i] = self.H[i-1] - (0.5 * (FnH + FnHp) * self.dx_)\n",
    "        self.eta[i] = self.eta[i-1] + (self.S_ * self.dx_)\n",
    "\n",
    "\n",
    "    def Backwater_Calculator(self, Cf_fun):\n",
    "\n",
    "        self.x[0] = self.total_x_\n",
    "        self.H[0] = self.initdepth_\n",
    "        self.eta[0] = 0\n",
    "        FnH, FnHp, Cf = self.update_vals_Fn(Cf_fun, 0)\n",
    "        self.update_vals(0, Cf)\n",
    "\n",
    "        for i in range(1, self.nodes):\n",
    "\n",
    "            self.update_surface(i, FnH, FnHp)\n",
    "            FnH, FnHp, Cf = self.update_vals_Fn(Cf_fun, i)\n",
    "            self.update_vals(i, Cf)\n",
    "\n",
    "            \n",
    "            \n",
    "            \n",
    "    ##########################################\n",
    "    ################# Run ####################\n",
    "    ##########################################   \n",
    "    def run(self): \n",
    "\n",
    "        self.get_critical_values()\n",
    "\n",
    "        if self.friction_ == \"Manning\":\n",
    "            self.Manning_formulation()\n",
    "            self.Backwater_Calculator(self.Manning_Cf)\n",
    "\n",
    "\n",
    "        if self.friction_ == \"Chezy\":\n",
    "            self.Chezy_formulation()\n",
    "            self.Backwater_Calculator(self.Chezy_Cf)\n",
    "            \n",
    "     \n",
    "    \n",
    "    ##########################################\n",
    "    ############## Finalize ##################\n",
    "    ##########################################   \n",
    "    def finalize(self):\n",
    "        \n",
    "        header1_ = [('Friction formulation', self.friction_),\n",
    "           ('Depth', str(self.Hf)),\n",
    "           ('Flow velocity', str(self.Uf)),\n",
    "           ('Froude number', str(self.Fr)),\n",
    "           ('Shear stress', str(self.taubf))]\n",
    "        \n",
    "        header1 = '\\n'.join([','.join(i) for i in header1_])\n",
    "        \n",
    "        fields = ['Position', 'Depth', 'FlowVelocity',\n",
    "                  'ShearStress', 'BedElevation', 'WaterSurfaceElev']\n",
    "        \n",
    "        header2 = ', '.join(fields)\n",
    "        \n",
    "        header = header1 + \"\\n\\n\" + header2\n",
    "        \n",
    "        dtype = [(i, float) for i in fields]\n",
    "        self.data = np.empty(len(self.x), dtype = dtype)\n",
    "        \n",
    "        self.data['Position'] = self.x\n",
    "        self.data['Depth'] = self.H\n",
    "        self.data['FlowVelocity'] = self.U\n",
    "        self.data['ShearStress'] = self.taub\n",
    "        self.data['BedElevation'] = self.eta\n",
    "        self.data['WaterSurfaceElev'] = self.ksi\n",
    "        \n",
    "        np.savetxt(self.output_file_ + '.csv', self.data,\n",
    "                   header = header,\n",
    "                   delimiter = \",\",\n",
    "                   fmt = '%10.5f',\n",
    "                   comments = '')"
   ]
  },
  {
   "cell_type": "code",
   "execution_count": 84,
   "metadata": {
    "collapsed": false
   },
   "outputs": [],
   "source": [
    "f= Backwater()"
   ]
  },
  {
   "cell_type": "code",
   "execution_count": 85,
   "metadata": {
    "collapsed": false
   },
   "outputs": [],
   "source": [
    "f.run()"
   ]
  },
  {
   "cell_type": "code",
   "execution_count": 86,
   "metadata": {
    "collapsed": false
   },
   "outputs": [],
   "source": [
    "f.finalize()"
   ]
  },
  {
   "cell_type": "code",
   "execution_count": 70,
   "metadata": {
    "collapsed": false
   },
   "outputs": [
    {
     "data": {
      "text/plain": [
       "<function numpy.lib.npyio.savetxt>"
      ]
     },
     "execution_count": 70,
     "metadata": {},
     "output_type": "execute_result"
    }
   ],
   "source": [
    "np.savetxt"
   ]
  },
  {
   "cell_type": "code",
   "execution_count": 65,
   "metadata": {
    "collapsed": false
   },
   "outputs": [
    {
     "data": {
      "text/plain": [
       "'Friction formulation: Chezy | Depth: 3.01368908062 | Flow velocity: 1.89136962955 | Froude number: 0.347850542619 | Shear stress: 7.39107247023'"
      ]
     },
     "execution_count": 65,
     "metadata": {},
     "output_type": "execute_result"
    }
   ],
   "source": [
    "' | '.join([': '.join(i) for i in header1])"
   ]
  },
  {
   "cell_type": "code",
   "execution_count": null,
   "metadata": {
    "collapsed": true
   },
   "outputs": [],
   "source": [
    "        self.Hf = ( self.qw_**2 / ( self.Cz_**2 * self.g_ * self.S_ ) )**(1./3)\n",
    "        \n",
    "        self.Uf = self.qw_ / self.Hf\n",
    "        \n",
    "        self.Fr = self.Uf  / sqrt( self.g_ * self.Hf )\n",
    "        \n",
    "        self.taubf = 1000 * ( self.Uf**2 / self.Cz_**2 )"
   ]
  },
  {
   "cell_type": "code",
   "execution_count": null,
   "metadata": {
    "collapsed": true
   },
   "outputs": [],
   "source": []
  },
  {
   "cell_type": "code",
   "execution_count": null,
   "metadata": {
    "collapsed": true
   },
   "outputs": [],
   "source": []
  }
 ],
 "metadata": {
  "kernelspec": {
   "display_name": "Python 2",
   "language": "python",
   "name": "python2"
  },
  "language_info": {
   "codemirror_mode": {
    "name": "ipython",
    "version": 2
   },
   "file_extension": ".py",
   "mimetype": "text/x-python",
   "name": "python",
   "nbconvert_exporter": "python",
   "pygments_lexer": "ipython2",
   "version": "2.7.10"
  }
 },
 "nbformat": 4,
 "nbformat_minor": 0
}
